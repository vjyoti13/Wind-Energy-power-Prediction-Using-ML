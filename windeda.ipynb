{
  "cells": [
    {
      "cell_type": "code",
      "execution_count": 14,
      "metadata": {
        "id": "Zp3nJQC_nHTN",
        "colab": {
          "base_uri": "https://localhost:8080/"
        },
        "outputId": "e43c1528-ad87-40b9-d7d7-b2c7b24b09dd"
      },
      "outputs": [
        {
          "output_type": "stream",
          "name": "stderr",
          "text": [
            "/usr/local/lib/python3.7/dist-packages/ipykernel_launcher.py:5: FutureWarning: The pandas.datetime class is deprecated and will be removed from pandas in a future version. Import from datetime module instead.\n",
            "  \"\"\"\n"
          ]
        }
      ],
      "source": [
        "from pandas import DataFrame\n",
        "from pandas import Series\n",
        "from pandas import concat\n",
        "from pandas import read_csv\n",
        "from pandas import datetime\n",
        "from sklearn.metrics import mean_squared_error\n",
        "from sklearn.preprocessing import MinMaxScaler\n",
        "from keras.models import Sequential\n",
        "from keras.layers import Dense\n",
        "from keras.layers import LSTM\n",
        "from math import sqrt\n",
        "import matplotlib.pyplot as plt\n",
        "import seaborn as sns\n",
        "import numpy as np\n",
        "import pandas as pd"
      ]
    },
    {
      "cell_type": "code",
      "execution_count": 15,
      "metadata": {
        "id": "JWed57ITs7VF"
      },
      "outputs": [],
      "source": [
        "series=pd.read_csv('T1.csv')"
      ]
    },
    {
      "cell_type": "code",
      "execution_count": 16,
      "metadata": {
        "id": "yHlHods3tI_z",
        "colab": {
          "base_uri": "https://localhost:8080/"
        },
        "outputId": "39837d8e-10bc-4da8-af56-f36f4d7a02b8"
      },
      "outputs": [
        {
          "output_type": "execute_result",
          "data": {
            "text/plain": [
              "Index(['Date/Time', 'LV ActivePower (kW)', 'Wind Speed (m/s)',\n",
              "       'Theoretical_Power_Curve (KWh)', 'Wind Direction (°)'],\n",
              "      dtype='object')"
            ]
          },
          "metadata": {},
          "execution_count": 16
        }
      ],
      "source": [
        "series.columns"
      ]
    },
    {
      "cell_type": "code",
      "execution_count": 17,
      "metadata": {
        "id": "p0Yq89tptQQr",
        "colab": {
          "base_uri": "https://localhost:8080/",
          "height": 206
        },
        "outputId": "56695e6d-9d05-4ef5-b4d5-91475262b17d"
      },
      "outputs": [
        {
          "output_type": "execute_result",
          "data": {
            "text/plain": [
              "          Date/Time  LV ActivePower (kW)  Wind Speed (m/s)  \\\n",
              "0  01 01 2018 00:00           380.047791          5.311336   \n",
              "1  01 01 2018 00:10           453.769196          5.672167   \n",
              "2  01 01 2018 00:20           306.376587          5.216037   \n",
              "3  01 01 2018 00:30           419.645905          5.659674   \n",
              "4  01 01 2018 00:40           380.650696          5.577941   \n",
              "\n",
              "   Theoretical_Power_Curve (KWh)  Wind Direction (°)  \n",
              "0                     416.328908          259.994904  \n",
              "1                     519.917511          268.641113  \n",
              "2                     390.900016          272.564789  \n",
              "3                     516.127569          271.258087  \n",
              "4                     491.702972          265.674286  "
            ],
            "text/html": [
              "\n",
              "  <div id=\"df-a81e0f9a-bea2-4b85-8219-c56df36c1792\">\n",
              "    <div class=\"colab-df-container\">\n",
              "      <div>\n",
              "<style scoped>\n",
              "    .dataframe tbody tr th:only-of-type {\n",
              "        vertical-align: middle;\n",
              "    }\n",
              "\n",
              "    .dataframe tbody tr th {\n",
              "        vertical-align: top;\n",
              "    }\n",
              "\n",
              "    .dataframe thead th {\n",
              "        text-align: right;\n",
              "    }\n",
              "</style>\n",
              "<table border=\"1\" class=\"dataframe\">\n",
              "  <thead>\n",
              "    <tr style=\"text-align: right;\">\n",
              "      <th></th>\n",
              "      <th>Date/Time</th>\n",
              "      <th>LV ActivePower (kW)</th>\n",
              "      <th>Wind Speed (m/s)</th>\n",
              "      <th>Theoretical_Power_Curve (KWh)</th>\n",
              "      <th>Wind Direction (°)</th>\n",
              "    </tr>\n",
              "  </thead>\n",
              "  <tbody>\n",
              "    <tr>\n",
              "      <th>0</th>\n",
              "      <td>01 01 2018 00:00</td>\n",
              "      <td>380.047791</td>\n",
              "      <td>5.311336</td>\n",
              "      <td>416.328908</td>\n",
              "      <td>259.994904</td>\n",
              "    </tr>\n",
              "    <tr>\n",
              "      <th>1</th>\n",
              "      <td>01 01 2018 00:10</td>\n",
              "      <td>453.769196</td>\n",
              "      <td>5.672167</td>\n",
              "      <td>519.917511</td>\n",
              "      <td>268.641113</td>\n",
              "    </tr>\n",
              "    <tr>\n",
              "      <th>2</th>\n",
              "      <td>01 01 2018 00:20</td>\n",
              "      <td>306.376587</td>\n",
              "      <td>5.216037</td>\n",
              "      <td>390.900016</td>\n",
              "      <td>272.564789</td>\n",
              "    </tr>\n",
              "    <tr>\n",
              "      <th>3</th>\n",
              "      <td>01 01 2018 00:30</td>\n",
              "      <td>419.645905</td>\n",
              "      <td>5.659674</td>\n",
              "      <td>516.127569</td>\n",
              "      <td>271.258087</td>\n",
              "    </tr>\n",
              "    <tr>\n",
              "      <th>4</th>\n",
              "      <td>01 01 2018 00:40</td>\n",
              "      <td>380.650696</td>\n",
              "      <td>5.577941</td>\n",
              "      <td>491.702972</td>\n",
              "      <td>265.674286</td>\n",
              "    </tr>\n",
              "  </tbody>\n",
              "</table>\n",
              "</div>\n",
              "      <button class=\"colab-df-convert\" onclick=\"convertToInteractive('df-a81e0f9a-bea2-4b85-8219-c56df36c1792')\"\n",
              "              title=\"Convert this dataframe to an interactive table.\"\n",
              "              style=\"display:none;\">\n",
              "        \n",
              "  <svg xmlns=\"http://www.w3.org/2000/svg\" height=\"24px\"viewBox=\"0 0 24 24\"\n",
              "       width=\"24px\">\n",
              "    <path d=\"M0 0h24v24H0V0z\" fill=\"none\"/>\n",
              "    <path d=\"M18.56 5.44l.94 2.06.94-2.06 2.06-.94-2.06-.94-.94-2.06-.94 2.06-2.06.94zm-11 1L8.5 8.5l.94-2.06 2.06-.94-2.06-.94L8.5 2.5l-.94 2.06-2.06.94zm10 10l.94 2.06.94-2.06 2.06-.94-2.06-.94-.94-2.06-.94 2.06-2.06.94z\"/><path d=\"M17.41 7.96l-1.37-1.37c-.4-.4-.92-.59-1.43-.59-.52 0-1.04.2-1.43.59L10.3 9.45l-7.72 7.72c-.78.78-.78 2.05 0 2.83L4 21.41c.39.39.9.59 1.41.59.51 0 1.02-.2 1.41-.59l7.78-7.78 2.81-2.81c.8-.78.8-2.07 0-2.86zM5.41 20L4 18.59l7.72-7.72 1.47 1.35L5.41 20z\"/>\n",
              "  </svg>\n",
              "      </button>\n",
              "      \n",
              "  <style>\n",
              "    .colab-df-container {\n",
              "      display:flex;\n",
              "      flex-wrap:wrap;\n",
              "      gap: 12px;\n",
              "    }\n",
              "\n",
              "    .colab-df-convert {\n",
              "      background-color: #E8F0FE;\n",
              "      border: none;\n",
              "      border-radius: 50%;\n",
              "      cursor: pointer;\n",
              "      display: none;\n",
              "      fill: #1967D2;\n",
              "      height: 32px;\n",
              "      padding: 0 0 0 0;\n",
              "      width: 32px;\n",
              "    }\n",
              "\n",
              "    .colab-df-convert:hover {\n",
              "      background-color: #E2EBFA;\n",
              "      box-shadow: 0px 1px 2px rgba(60, 64, 67, 0.3), 0px 1px 3px 1px rgba(60, 64, 67, 0.15);\n",
              "      fill: #174EA6;\n",
              "    }\n",
              "\n",
              "    [theme=dark] .colab-df-convert {\n",
              "      background-color: #3B4455;\n",
              "      fill: #D2E3FC;\n",
              "    }\n",
              "\n",
              "    [theme=dark] .colab-df-convert:hover {\n",
              "      background-color: #434B5C;\n",
              "      box-shadow: 0px 1px 3px 1px rgba(0, 0, 0, 0.15);\n",
              "      filter: drop-shadow(0px 1px 2px rgba(0, 0, 0, 0.3));\n",
              "      fill: #FFFFFF;\n",
              "    }\n",
              "  </style>\n",
              "\n",
              "      <script>\n",
              "        const buttonEl =\n",
              "          document.querySelector('#df-a81e0f9a-bea2-4b85-8219-c56df36c1792 button.colab-df-convert');\n",
              "        buttonEl.style.display =\n",
              "          google.colab.kernel.accessAllowed ? 'block' : 'none';\n",
              "\n",
              "        async function convertToInteractive(key) {\n",
              "          const element = document.querySelector('#df-a81e0f9a-bea2-4b85-8219-c56df36c1792');\n",
              "          const dataTable =\n",
              "            await google.colab.kernel.invokeFunction('convertToInteractive',\n",
              "                                                     [key], {});\n",
              "          if (!dataTable) return;\n",
              "\n",
              "          const docLinkHtml = 'Like what you see? Visit the ' +\n",
              "            '<a target=\"_blank\" href=https://colab.research.google.com/notebooks/data_table.ipynb>data table notebook</a>'\n",
              "            + ' to learn more about interactive tables.';\n",
              "          element.innerHTML = '';\n",
              "          dataTable['output_type'] = 'display_data';\n",
              "          await google.colab.output.renderOutput(dataTable, element);\n",
              "          const docLink = document.createElement('div');\n",
              "          docLink.innerHTML = docLinkHtml;\n",
              "          element.appendChild(docLink);\n",
              "        }\n",
              "      </script>\n",
              "    </div>\n",
              "  </div>\n",
              "  "
            ]
          },
          "metadata": {},
          "execution_count": 17
        }
      ],
      "source": [
        "series.head()"
      ]
    },
    {
      "cell_type": "markdown",
      "metadata": {
        "id": "vOgWUAHgtb8M"
      },
      "source": [
        "##Information about features\n",
        "\n",
        "-Date/Time (for 10 minutes intervals)\n",
        "\n",
        "-LV ActivePower (kW): The power generated by the turbine for that moment\n",
        "\n",
        "-Wind Speed (m/s): The wind speed at the hub height of the turbine (the wind speed that turbine use for electricity generation)\n",
        "\n",
        "-TheoreticalPowerCurve (KWh): The theoretical power values that the turbine generates with that wind speed which is given by the turbine manufacturer\n",
        "\n",
        "-Wind Direction (°): The wind direction at the hub height of the turbine (wind turbines turn to this direction automaticly"
      ]
    },
    {
      "cell_type": "code",
      "execution_count": 18,
      "metadata": {
        "id": "MNSKddQitVKi",
        "colab": {
          "base_uri": "https://localhost:8080/",
          "height": 300
        },
        "outputId": "4bb74355-a9cf-4434-d561-5545a47a52b7"
      },
      "outputs": [
        {
          "output_type": "execute_result",
          "data": {
            "text/plain": [
              "       LV ActivePower (kW)  Wind Speed (m/s)  Theoretical_Power_Curve (KWh)  \\\n",
              "count         50530.000000      50530.000000                   50530.000000   \n",
              "mean           1307.684332          7.557952                    1492.175463   \n",
              "std            1312.459242          4.227166                    1368.018238   \n",
              "min              -2.471405          0.000000                       0.000000   \n",
              "25%              50.677890          4.201395                     161.328167   \n",
              "50%             825.838074          7.104594                    1063.776283   \n",
              "75%            2482.507568         10.300020                    2964.972462   \n",
              "max            3618.732910         25.206011                    3600.000000   \n",
              "\n",
              "       Wind Direction (°)  \n",
              "count        50530.000000  \n",
              "mean           123.687559  \n",
              "std             93.443736  \n",
              "min              0.000000  \n",
              "25%             49.315437  \n",
              "50%             73.712978  \n",
              "75%            201.696720  \n",
              "max            359.997589  "
            ],
            "text/html": [
              "\n",
              "  <div id=\"df-f8f8c1bb-47ed-4c4a-b0a0-6d2d53ef5ed7\">\n",
              "    <div class=\"colab-df-container\">\n",
              "      <div>\n",
              "<style scoped>\n",
              "    .dataframe tbody tr th:only-of-type {\n",
              "        vertical-align: middle;\n",
              "    }\n",
              "\n",
              "    .dataframe tbody tr th {\n",
              "        vertical-align: top;\n",
              "    }\n",
              "\n",
              "    .dataframe thead th {\n",
              "        text-align: right;\n",
              "    }\n",
              "</style>\n",
              "<table border=\"1\" class=\"dataframe\">\n",
              "  <thead>\n",
              "    <tr style=\"text-align: right;\">\n",
              "      <th></th>\n",
              "      <th>LV ActivePower (kW)</th>\n",
              "      <th>Wind Speed (m/s)</th>\n",
              "      <th>Theoretical_Power_Curve (KWh)</th>\n",
              "      <th>Wind Direction (°)</th>\n",
              "    </tr>\n",
              "  </thead>\n",
              "  <tbody>\n",
              "    <tr>\n",
              "      <th>count</th>\n",
              "      <td>50530.000000</td>\n",
              "      <td>50530.000000</td>\n",
              "      <td>50530.000000</td>\n",
              "      <td>50530.000000</td>\n",
              "    </tr>\n",
              "    <tr>\n",
              "      <th>mean</th>\n",
              "      <td>1307.684332</td>\n",
              "      <td>7.557952</td>\n",
              "      <td>1492.175463</td>\n",
              "      <td>123.687559</td>\n",
              "    </tr>\n",
              "    <tr>\n",
              "      <th>std</th>\n",
              "      <td>1312.459242</td>\n",
              "      <td>4.227166</td>\n",
              "      <td>1368.018238</td>\n",
              "      <td>93.443736</td>\n",
              "    </tr>\n",
              "    <tr>\n",
              "      <th>min</th>\n",
              "      <td>-2.471405</td>\n",
              "      <td>0.000000</td>\n",
              "      <td>0.000000</td>\n",
              "      <td>0.000000</td>\n",
              "    </tr>\n",
              "    <tr>\n",
              "      <th>25%</th>\n",
              "      <td>50.677890</td>\n",
              "      <td>4.201395</td>\n",
              "      <td>161.328167</td>\n",
              "      <td>49.315437</td>\n",
              "    </tr>\n",
              "    <tr>\n",
              "      <th>50%</th>\n",
              "      <td>825.838074</td>\n",
              "      <td>7.104594</td>\n",
              "      <td>1063.776283</td>\n",
              "      <td>73.712978</td>\n",
              "    </tr>\n",
              "    <tr>\n",
              "      <th>75%</th>\n",
              "      <td>2482.507568</td>\n",
              "      <td>10.300020</td>\n",
              "      <td>2964.972462</td>\n",
              "      <td>201.696720</td>\n",
              "    </tr>\n",
              "    <tr>\n",
              "      <th>max</th>\n",
              "      <td>3618.732910</td>\n",
              "      <td>25.206011</td>\n",
              "      <td>3600.000000</td>\n",
              "      <td>359.997589</td>\n",
              "    </tr>\n",
              "  </tbody>\n",
              "</table>\n",
              "</div>\n",
              "      <button class=\"colab-df-convert\" onclick=\"convertToInteractive('df-f8f8c1bb-47ed-4c4a-b0a0-6d2d53ef5ed7')\"\n",
              "              title=\"Convert this dataframe to an interactive table.\"\n",
              "              style=\"display:none;\">\n",
              "        \n",
              "  <svg xmlns=\"http://www.w3.org/2000/svg\" height=\"24px\"viewBox=\"0 0 24 24\"\n",
              "       width=\"24px\">\n",
              "    <path d=\"M0 0h24v24H0V0z\" fill=\"none\"/>\n",
              "    <path d=\"M18.56 5.44l.94 2.06.94-2.06 2.06-.94-2.06-.94-.94-2.06-.94 2.06-2.06.94zm-11 1L8.5 8.5l.94-2.06 2.06-.94-2.06-.94L8.5 2.5l-.94 2.06-2.06.94zm10 10l.94 2.06.94-2.06 2.06-.94-2.06-.94-.94-2.06-.94 2.06-2.06.94z\"/><path d=\"M17.41 7.96l-1.37-1.37c-.4-.4-.92-.59-1.43-.59-.52 0-1.04.2-1.43.59L10.3 9.45l-7.72 7.72c-.78.78-.78 2.05 0 2.83L4 21.41c.39.39.9.59 1.41.59.51 0 1.02-.2 1.41-.59l7.78-7.78 2.81-2.81c.8-.78.8-2.07 0-2.86zM5.41 20L4 18.59l7.72-7.72 1.47 1.35L5.41 20z\"/>\n",
              "  </svg>\n",
              "      </button>\n",
              "      \n",
              "  <style>\n",
              "    .colab-df-container {\n",
              "      display:flex;\n",
              "      flex-wrap:wrap;\n",
              "      gap: 12px;\n",
              "    }\n",
              "\n",
              "    .colab-df-convert {\n",
              "      background-color: #E8F0FE;\n",
              "      border: none;\n",
              "      border-radius: 50%;\n",
              "      cursor: pointer;\n",
              "      display: none;\n",
              "      fill: #1967D2;\n",
              "      height: 32px;\n",
              "      padding: 0 0 0 0;\n",
              "      width: 32px;\n",
              "    }\n",
              "\n",
              "    .colab-df-convert:hover {\n",
              "      background-color: #E2EBFA;\n",
              "      box-shadow: 0px 1px 2px rgba(60, 64, 67, 0.3), 0px 1px 3px 1px rgba(60, 64, 67, 0.15);\n",
              "      fill: #174EA6;\n",
              "    }\n",
              "\n",
              "    [theme=dark] .colab-df-convert {\n",
              "      background-color: #3B4455;\n",
              "      fill: #D2E3FC;\n",
              "    }\n",
              "\n",
              "    [theme=dark] .colab-df-convert:hover {\n",
              "      background-color: #434B5C;\n",
              "      box-shadow: 0px 1px 3px 1px rgba(0, 0, 0, 0.15);\n",
              "      filter: drop-shadow(0px 1px 2px rgba(0, 0, 0, 0.3));\n",
              "      fill: #FFFFFF;\n",
              "    }\n",
              "  </style>\n",
              "\n",
              "      <script>\n",
              "        const buttonEl =\n",
              "          document.querySelector('#df-f8f8c1bb-47ed-4c4a-b0a0-6d2d53ef5ed7 button.colab-df-convert');\n",
              "        buttonEl.style.display =\n",
              "          google.colab.kernel.accessAllowed ? 'block' : 'none';\n",
              "\n",
              "        async function convertToInteractive(key) {\n",
              "          const element = document.querySelector('#df-f8f8c1bb-47ed-4c4a-b0a0-6d2d53ef5ed7');\n",
              "          const dataTable =\n",
              "            await google.colab.kernel.invokeFunction('convertToInteractive',\n",
              "                                                     [key], {});\n",
              "          if (!dataTable) return;\n",
              "\n",
              "          const docLinkHtml = 'Like what you see? Visit the ' +\n",
              "            '<a target=\"_blank\" href=https://colab.research.google.com/notebooks/data_table.ipynb>data table notebook</a>'\n",
              "            + ' to learn more about interactive tables.';\n",
              "          element.innerHTML = '';\n",
              "          dataTable['output_type'] = 'display_data';\n",
              "          await google.colab.output.renderOutput(dataTable, element);\n",
              "          const docLink = document.createElement('div');\n",
              "          docLink.innerHTML = docLinkHtml;\n",
              "          element.appendChild(docLink);\n",
              "        }\n",
              "      </script>\n",
              "    </div>\n",
              "  </div>\n",
              "  "
            ]
          },
          "metadata": {},
          "execution_count": 18
        }
      ],
      "source": [
        "series.describe()"
      ]
    },
    {
      "cell_type": "code",
      "execution_count": 19,
      "metadata": {
        "id": "uALdV3SKtffQ",
        "colab": {
          "base_uri": "https://localhost:8080/"
        },
        "outputId": "d4fe543c-ad2a-4e76-9855-878d5881af12"
      },
      "outputs": [
        {
          "output_type": "stream",
          "name": "stdout",
          "text": [
            "<class 'pandas.core.frame.DataFrame'>\n",
            "RangeIndex: 50530 entries, 0 to 50529\n",
            "Data columns (total 5 columns):\n",
            " #   Column                         Non-Null Count  Dtype  \n",
            "---  ------                         --------------  -----  \n",
            " 0   Date/Time                      50530 non-null  object \n",
            " 1   LV ActivePower (kW)            50530 non-null  float64\n",
            " 2   Wind Speed (m/s)               50530 non-null  float64\n",
            " 3   Theoretical_Power_Curve (KWh)  50530 non-null  float64\n",
            " 4   Wind Direction (°)             50530 non-null  float64\n",
            "dtypes: float64(4), object(1)\n",
            "memory usage: 1.9+ MB\n"
          ]
        }
      ],
      "source": [
        "series.info()"
      ]
    },
    {
      "cell_type": "code",
      "execution_count": 20,
      "metadata": {
        "id": "Y-myLZA0tj_b",
        "colab": {
          "base_uri": "https://localhost:8080/",
          "height": 282
        },
        "outputId": "b5dd8f22-898f-4941-f293-45a5536cdc2d"
      },
      "outputs": [
        {
          "output_type": "execute_result",
          "data": {
            "text/plain": [
              "<matplotlib.axes._subplots.AxesSubplot at 0x7f6161ca6110>"
            ]
          },
          "metadata": {},
          "execution_count": 20
        },
        {
          "output_type": "display_data",
          "data": {
            "text/plain": [
              "<Figure size 432x288 with 1 Axes>"
            ],
            "image/png": "[encoded data removed]"
          },
          "metadata": {
            "needs_background": "light"
          }
        }
      ],
      "source": [
        "series.plot()"
      ]
    },
    {
      "cell_type": "markdown",
      "metadata": {
        "id": "YSO_mdlztn9w"
      },
      "source": [
        "##Converting DateTime object into date/time format type"
      ]
    },
    {
      "cell_type": "code",
      "execution_count": 21,
      "metadata": {
        "id": "HQR9Cb27tAHC",
        "colab": {
          "base_uri": "https://localhost:8080/"
        },
        "outputId": "861746d0-c722-4830-be93-bedf3640d76a"
      },
      "outputs": [
        {
          "output_type": "stream",
          "name": "stdout",
          "text": [
            "<class 'pandas.core.frame.DataFrame'>\n",
            "RangeIndex: 50530 entries, 0 to 50529\n",
            "Data columns (total 5 columns):\n",
            " #   Column                         Non-Null Count  Dtype         \n",
            "---  ------                         --------------  -----         \n",
            " 0   Date/Time                      50530 non-null  datetime64[ns]\n",
            " 1   LV ActivePower (kW)            50530 non-null  float64       \n",
            " 2   Wind Speed (m/s)               50530 non-null  float64       \n",
            " 3   Theoretical_Power_Curve (KWh)  50530 non-null  float64       \n",
            " 4   Wind Direction (°)             50530 non-null  float64       \n",
            "dtypes: datetime64[ns](1), float64(4)\n",
            "memory usage: 1.9 MB\n"
          ]
        }
      ],
      "source": [
        "series['Date/Time'] = pd.to_datetime(series['Date/Time'],format='%d %m %Y %H:%M')\n",
        "series.info()"
      ]
    },
    {
      "cell_type": "code",
      "execution_count": 22,
      "metadata": {
        "id": "29bLQcLMt5kn"
      },
      "outputs": [],
      "source": [
        "#set data as index\n",
        "series.set_index(\"Date/Time\",inplace=True)"
      ]
    },
    {
      "cell_type": "code",
      "execution_count": 23,
      "metadata": {
        "id": "5bvb1WlFuAlY",
        "colab": {
          "base_uri": "https://localhost:8080/",
          "height": 238
        },
        "outputId": "f9c6fe36-3b10-4894-87d6-4d99c48ffa7d"
      },
      "outputs": [
        {
          "output_type": "execute_result",
          "data": {
            "text/plain": [
              "                     LV ActivePower (kW)  Wind Speed (m/s)  \\\n",
              "Date/Time                                                    \n",
              "2018-01-01 00:00:00           380.047791          5.311336   \n",
              "2018-01-01 00:10:00           453.769196          5.672167   \n",
              "2018-01-01 00:20:00           306.376587          5.216037   \n",
              "2018-01-01 00:30:00           419.645905          5.659674   \n",
              "2018-01-01 00:40:00           380.650696          5.577941   \n",
              "\n",
              "                     Theoretical_Power_Curve (KWh)  Wind Direction (°)  \n",
              "Date/Time                                                               \n",
              "2018-01-01 00:00:00                     416.328908          259.994904  \n",
              "2018-01-01 00:10:00                     519.917511          268.641113  \n",
              "2018-01-01 00:20:00                     390.900016          272.564789  \n",
              "2018-01-01 00:30:00                     516.127569          271.258087  \n",
              "2018-01-01 00:40:00                     491.702972          265.674286  "
            ],
            "text/html": [
              "\n",
              "  <div id=\"df-b41deac9-252b-4f3f-a9d8-a2b8d3f1d643\">\n",
              "    <div class=\"colab-df-container\">\n",
              "      <div>\n",
              "<style scoped>\n",
              "    .dataframe tbody tr th:only-of-type {\n",
              "        vertical-align: middle;\n",
              "    }\n",
              "\n",
              "    .dataframe tbody tr th {\n",
              "        vertical-align: top;\n",
              "    }\n",
              "\n",
              "    .dataframe thead th {\n",
              "        text-align: right;\n",
              "    }\n",
              "</style>\n",
              "<table border=\"1\" class=\"dataframe\">\n",
              "  <thead>\n",
              "    <tr style=\"text-align: right;\">\n",
              "      <th></th>\n",
              "      <th>LV ActivePower (kW)</th>\n",
              "      <th>Wind Speed (m/s)</th>\n",
              "      <th>Theoretical_Power_Curve (KWh)</th>\n",
              "      <th>Wind Direction (°)</th>\n",
              "    </tr>\n",
              "    <tr>\n",
              "      <th>Date/Time</th>\n",
              "      <th></th>\n",
              "      <th></th>\n",
              "      <th></th>\n",
              "      <th></th>\n",
              "    </tr>\n",
              "  </thead>\n",
              "  <tbody>\n",
              "    <tr>\n",
              "      <th>2018-01-01 00:00:00</th>\n",
              "      <td>380.047791</td>\n",
              "      <td>5.311336</td>\n",
              "      <td>416.328908</td>\n",
              "      <td>259.994904</td>\n",
              "    </tr>\n",
              "    <tr>\n",
              "      <th>2018-01-01 00:10:00</th>\n",
              "      <td>453.769196</td>\n",
              "      <td>5.672167</td>\n",
              "      <td>519.917511</td>\n",
              "      <td>268.641113</td>\n",
              "    </tr>\n",
              "    <tr>\n",
              "      <th>2018-01-01 00:20:00</th>\n",
              "      <td>306.376587</td>\n",
              "      <td>5.216037</td>\n",
              "      <td>390.900016</td>\n",
              "      <td>272.564789</td>\n",
              "    </tr>\n",
              "    <tr>\n",
              "      <th>2018-01-01 00:30:00</th>\n",
              "      <td>419.645905</td>\n",
              "      <td>5.659674</td>\n",
              "      <td>516.127569</td>\n",
              "      <td>271.258087</td>\n",
              "    </tr>\n",
              "    <tr>\n",
              "      <th>2018-01-01 00:40:00</th>\n",
              "      <td>380.650696</td>\n",
              "      <td>5.577941</td>\n",
              "      <td>491.702972</td>\n",
              "      <td>265.674286</td>\n",
              "    </tr>\n",
              "  </tbody>\n",
              "</table>\n",
              "</div>\n",
              "      <button class=\"colab-df-convert\" onclick=\"convertToInteractive('df-b41deac9-252b-4f3f-a9d8-a2b8d3f1d643')\"\n",
              "              title=\"Convert this dataframe to an interactive table.\"\n",
              "              style=\"display:none;\">\n",
              "        \n",
              "  <svg xmlns=\"http://www.w3.org/2000/svg\" height=\"24px\"viewBox=\"0 0 24 24\"\n",
              "       width=\"24px\">\n",
              "    <path d=\"M0 0h24v24H0V0z\" fill=\"none\"/>\n",
              "    <path d=\"M18.56 5.44l.94 2.06.94-2.06 2.06-.94-2.06-.94-.94-2.06-.94 2.06-2.06.94zm-11 1L8.5 8.5l.94-2.06 2.06-.94-2.06-.94L8.5 2.5l-.94 2.06-2.06.94zm10 10l.94 2.06.94-2.06 2.06-.94-2.06-.94-.94-2.06-.94 2.06-2.06.94z\"/><path d=\"M17.41 7.96l-1.37-1.37c-.4-.4-.92-.59-1.43-.59-.52 0-1.04.2-1.43.59L10.3 9.45l-7.72 7.72c-.78.78-.78 2.05 0 2.83L4 21.41c.39.39.9.59 1.41.59.51 0 1.02-.2 1.41-.59l7.78-7.78 2.81-2.81c.8-.78.8-2.07 0-2.86zM5.41 20L4 18.59l7.72-7.72 1.47 1.35L5.41 20z\"/>\n",
              "  </svg>\n",
              "      </button>\n",
              "      \n",
              "  <style>\n",
              "    .colab-df-container {\n",
              "      display:flex;\n",
              "      flex-wrap:wrap;\n",
              "      gap: 12px;\n",
              "    }\n",
              "\n",
              "    .colab-df-convert {\n",
              "      background-color: #E8F0FE;\n",
              "      border: none;\n",
              "      border-radius: 50%;\n",
              "      cursor: pointer;\n",
              "      display: none;\n",
              "      fill: #1967D2;\n",
              "      height: 32px;\n",
              "      padding: 0 0 0 0;\n",
              "      width: 32px;\n",
              "    }\n",
              "\n",
              "    .colab-df-convert:hover {\n",
              "      background-color: #E2EBFA;\n",
              "      box-shadow: 0px 1px 2px rgba(60, 64, 67, 0.3), 0px 1px 3px 1px rgba(60, 64, 67, 0.15);\n",
              "      fill: #174EA6;\n",
              "    }\n",
              "\n",
              "    [theme=dark] .colab-df-convert {\n",
              "      background-color: #3B4455;\n",
              "      fill: #D2E3FC;\n",
              "    }\n",
              "\n",
              "    [theme=dark] .colab-df-convert:hover {\n",
              "      background-color: #434B5C;\n",
              "      box-shadow: 0px 1px 3px 1px rgba(0, 0, 0, 0.15);\n",
              "      filter: drop-shadow(0px 1px 2px rgba(0, 0, 0, 0.3));\n",
              "      fill: #FFFFFF;\n",
              "    }\n",
              "  </style>\n",
              "\n",
              "      <script>\n",
              "        const buttonEl =\n",
              "          document.querySelector('#df-b41deac9-252b-4f3f-a9d8-a2b8d3f1d643 button.colab-df-convert');\n",
              "        buttonEl.style.display =\n",
              "          google.colab.kernel.accessAllowed ? 'block' : 'none';\n",
              "\n",
              "        async function convertToInteractive(key) {\n",
              "          const element = document.querySelector('#df-b41deac9-252b-4f3f-a9d8-a2b8d3f1d643');\n",
              "          const dataTable =\n",
              "            await google.colab.kernel.invokeFunction('convertToInteractive',\n",
              "                                                     [key], {});\n",
              "          if (!dataTable) return;\n",
              "\n",
              "          const docLinkHtml = 'Like what you see? Visit the ' +\n",
              "            '<a target=\"_blank\" href=https://colab.research.google.com/notebooks/data_table.ipynb>data table notebook</a>'\n",
              "            + ' to learn more about interactive tables.';\n",
              "          element.innerHTML = '';\n",
              "          dataTable['output_type'] = 'display_data';\n",
              "          await google.colab.output.renderOutput(dataTable, element);\n",
              "          const docLink = document.createElement('div');\n",
              "          docLink.innerHTML = docLinkHtml;\n",
              "          element.appendChild(docLink);\n",
              "        }\n",
              "      </script>\n",
              "    </div>\n",
              "  </div>\n",
              "  "
            ]
          },
          "metadata": {},
          "execution_count": 23
        }
      ],
      "source": [
        "series.head()"
      ]
    },
    {
      "cell_type": "code",
      "execution_count": 24,
      "metadata": {
        "id": "zvUBWe0BwGCb",
        "colab": {
          "base_uri": "https://localhost:8080/"
        },
        "outputId": "ce699995-6b6e-4c96-ca23-924ab38d38bb"
      },
      "outputs": [
        {
          "output_type": "execute_result",
          "data": {
            "text/plain": [
              "(Timestamp('2018-01-01 00:00:00'), Timestamp('2018-12-31 23:50:00'))"
            ]
          },
          "metadata": {},
          "execution_count": 24
        }
      ],
      "source": [
        "series.index.min(),series.index.max() "
      ]
    },
    {
      "cell_type": "markdown",
      "metadata": {
        "id": "SeYnn6e_uSH7"
      },
      "source": [
        "##Checking for Null Values"
      ]
    },
    {
      "cell_type": "code",
      "execution_count": 25,
      "metadata": {
        "id": "yhKQD8c2uXSK",
        "colab": {
          "base_uri": "https://localhost:8080/"
        },
        "outputId": "407c89f4-174c-4940-d94c-ace5e8071a00"
      },
      "outputs": [
        {
          "output_type": "execute_result",
          "data": {
            "text/plain": [
              "LV ActivePower (kW)              0\n",
              "Wind Speed (m/s)                 0\n",
              "Theoretical_Power_Curve (KWh)    0\n",
              "Wind Direction (°)               0\n",
              "dtype: int64"
            ]
          },
          "metadata": {},
          "execution_count": 25
        }
      ],
      "source": [
        "series.isnull().sum()"
      ]
    },
    {
      "cell_type": "markdown",
      "metadata": {
        "id": "dW5XMktXuvAE"
      },
      "source": [
        "From above output we can conclude that there are no null values and we have data of one yea"
      ]
    },
    {
      "cell_type": "markdown",
      "metadata": {
        "id": "gGKDBhBvvD9K"
      },
      "source": [
        "##Visualization"
      ]
    },
    {
      "cell_type": "code",
      "execution_count": 26,
      "metadata": {
        "id": "2o7ZhTrzvTxI",
        "colab": {
          "base_uri": "https://localhost:8080/",
          "height": 793
        },
        "outputId": "cf659553-8f3d-4b98-8239-e86e3e025a72"
      },
      "outputs": [
        {
          "output_type": "display_data",
          "data": {
            "text/plain": [
              "<Figure size 720x576 with 2 Axes>"
            ],
            "image/png": "[encoded data removed]"
          },
          "metadata": {
            "needs_background": "light"
          }
        },
        {
          "output_type": "execute_result",
          "data": {
            "text/plain": [
              "                               LV ActivePower (kW)  Wind Speed (m/s)  \\\n",
              "LV ActivePower (kW)                       1.000000          0.912774   \n",
              "Wind Speed (m/s)                          0.912774          1.000000   \n",
              "Theoretical_Power_Curve (KWh)             0.949918          0.944209   \n",
              "Wind Direction (°)                       -0.062702         -0.077188   \n",
              "\n",
              "                               Theoretical_Power_Curve (KWh)  \\\n",
              "LV ActivePower (kW)                                 0.949918   \n",
              "Wind Speed (m/s)                                    0.944209   \n",
              "Theoretical_Power_Curve (KWh)                       1.000000   \n",
              "Wind Direction (°)                                 -0.099076   \n",
              "\n",
              "                               Wind Direction (°)  \n",
              "LV ActivePower (kW)                     -0.062702  \n",
              "Wind Speed (m/s)                        -0.077188  \n",
              "Theoretical_Power_Curve (KWh)           -0.099076  \n",
              "Wind Direction (°)                       1.000000  "
            ],
            "text/html": [
              "\n",
              "  <div id=\"df-2de51591-a494-4d63-b85c-424ace22c027\">\n",
              "    <div class=\"colab-df-container\">\n",
              "      <div>\n",
              "<style scoped>\n",
              "    .dataframe tbody tr th:only-of-type {\n",
              "        vertical-align: middle;\n",
              "    }\n",
              "\n",
              "    .dataframe tbody tr th {\n",
              "        vertical-align: top;\n",
              "    }\n",
              "\n",
              "    .dataframe thead th {\n",
              "        text-align: right;\n",
              "    }\n",
              "</style>\n",
              "<table border=\"1\" class=\"dataframe\">\n",
              "  <thead>\n",
              "    <tr style=\"text-align: right;\">\n",
              "      <th></th>\n",
              "      <th>LV ActivePower (kW)</th>\n",
              "      <th>Wind Speed (m/s)</th>\n",
              "      <th>Theoretical_Power_Curve (KWh)</th>\n",
              "      <th>Wind Direction (°)</th>\n",
              "    </tr>\n",
              "  </thead>\n",
              "  <tbody>\n",
              "    <tr>\n",
              "      <th>LV ActivePower (kW)</th>\n",
              "      <td>1.000000</td>\n",
              "      <td>0.912774</td>\n",
              "      <td>0.949918</td>\n",
              "      <td>-0.062702</td>\n",
              "    </tr>\n",
              "    <tr>\n",
              "      <th>Wind Speed (m/s)</th>\n",
              "      <td>0.912774</td>\n",
              "      <td>1.000000</td>\n",
              "      <td>0.944209</td>\n",
              "      <td>-0.077188</td>\n",
              "    </tr>\n",
              "    <tr>\n",
              "      <th>Theoretical_Power_Curve (KWh)</th>\n",
              "      <td>0.949918</td>\n",
              "      <td>0.944209</td>\n",
              "      <td>1.000000</td>\n",
              "      <td>-0.099076</td>\n",
              "    </tr>\n",
              "    <tr>\n",
              "      <th>Wind Direction (°)</th>\n",
              "      <td>-0.062702</td>\n",
              "      <td>-0.077188</td>\n",
              "      <td>-0.099076</td>\n",
              "      <td>1.000000</td>\n",
              "    </tr>\n",
              "  </tbody>\n",
              "</table>\n",
              "</div>\n",
              "      <button class=\"colab-df-convert\" onclick=\"convertToInteractive('df-2de51591-a494-4d63-b85c-424ace22c027')\"\n",
              "              title=\"Convert this dataframe to an interactive table.\"\n",
              "              style=\"display:none;\">\n",
              "        \n",
              "  <svg xmlns=\"http://www.w3.org/2000/svg\" height=\"24px\"viewBox=\"0 0 24 24\"\n",
              "       width=\"24px\">\n",
              "    <path d=\"M0 0h24v24H0V0z\" fill=\"none\"/>\n",
              "    <path d=\"M18.56 5.44l.94 2.06.94-2.06 2.06-.94-2.06-.94-.94-2.06-.94 2.06-2.06.94zm-11 1L8.5 8.5l.94-2.06 2.06-.94-2.06-.94L8.5 2.5l-.94 2.06-2.06.94zm10 10l.94 2.06.94-2.06 2.06-.94-2.06-.94-.94-2.06-.94 2.06-2.06.94z\"/><path d=\"M17.41 7.96l-1.37-1.37c-.4-.4-.92-.59-1.43-.59-.52 0-1.04.2-1.43.59L10.3 9.45l-7.72 7.72c-.78.78-.78 2.05 0 2.83L4 21.41c.39.39.9.59 1.41.59.51 0 1.02-.2 1.41-.59l7.78-7.78 2.81-2.81c.8-.78.8-2.07 0-2.86zM5.41 20L4 18.59l7.72-7.72 1.47 1.35L5.41 20z\"/>\n",
              "  </svg>\n",
              "      </button>\n",
              "      \n",
              "  <style>\n",
              "    .colab-df-container {\n",
              "      display:flex;\n",
              "      flex-wrap:wrap;\n",
              "      gap: 12px;\n",
              "    }\n",
              "\n",
              "    .colab-df-convert {\n",
              "      background-color: #E8F0FE;\n",
              "      border: none;\n",
              "      border-radius: 50%;\n",
              "      cursor: pointer;\n",
              "      display: none;\n",
              "      fill: #1967D2;\n",
              "      height: 32px;\n",
              "      padding: 0 0 0 0;\n",
              "      width: 32px;\n",
              "    }\n",
              "\n",
              "    .colab-df-convert:hover {\n",
              "      background-color: #E2EBFA;\n",
              "      box-shadow: 0px 1px 2px rgba(60, 64, 67, 0.3), 0px 1px 3px 1px rgba(60, 64, 67, 0.15);\n",
              "      fill: #174EA6;\n",
              "    }\n",
              "\n",
              "    [theme=dark] .colab-df-convert {\n",
              "      background-color: #3B4455;\n",
              "      fill: #D2E3FC;\n",
              "    }\n",
              "\n",
              "    [theme=dark] .colab-df-convert:hover {\n",
              "      background-color: #434B5C;\n",
              "      box-shadow: 0px 1px 3px 1px rgba(0, 0, 0, 0.15);\n",
              "      filter: drop-shadow(0px 1px 2px rgba(0, 0, 0, 0.3));\n",
              "      fill: #FFFFFF;\n",
              "    }\n",
              "  </style>\n",
              "\n",
              "      <script>\n",
              "        const buttonEl =\n",
              "          document.querySelector('#df-2de51591-a494-4d63-b85c-424ace22c027 button.colab-df-convert');\n",
              "        buttonEl.style.display =\n",
              "          google.colab.kernel.accessAllowed ? 'block' : 'none';\n",
              "\n",
              "        async function convertToInteractive(key) {\n",
              "          const element = document.querySelector('#df-2de51591-a494-4d63-b85c-424ace22c027');\n",
              "          const dataTable =\n",
              "            await google.colab.kernel.invokeFunction('convertToInteractive',\n",
              "                                                     [key], {});\n",
              "          if (!dataTable) return;\n",
              "\n",
              "          const docLinkHtml = 'Like what you see? Visit the ' +\n",
              "            '<a target=\"_blank\" href=https://colab.research.google.com/notebooks/data_table.ipynb>data table notebook</a>'\n",
              "            + ' to learn more about interactive tables.';\n",
              "          element.innerHTML = '';\n",
              "          dataTable['output_type'] = 'display_data';\n",
              "          await google.colab.output.renderOutput(dataTable, element);\n",
              "          const docLink = document.createElement('div');\n",
              "          docLink.innerHTML = docLinkHtml;\n",
              "          element.appendChild(docLink);\n",
              "        }\n",
              "      </script>\n",
              "    </div>\n",
              "  </div>\n",
              "  "
            ]
          },
          "metadata": {},
          "execution_count": 26
        }
      ],
      "source": [
        "#correlation between the values\n",
        "corr = series.corr()\n",
        "plt.figure(figsize=(10, 8))\n",
        "\n",
        "ax = sns.heatmap(corr, vmin = -1, vmax = 1, annot = True)\n",
        "bottom, top = ax.get_ylim()\n",
        "ax.set_ylim(bottom + 0.5, top - 0.5)\n",
        "plt.show()\n",
        "corr"
      ]
    },
    {
      "cell_type": "code",
      "execution_count": 27,
      "metadata": {
        "id": "bUBwXttfyEeN",
        "colab": {
          "base_uri": "https://localhost:8080/",
          "height": 294
        },
        "outputId": "3cb7878d-cbb4-4a7b-91dd-b1d42a7c9048"
      },
      "outputs": [
        {
          "output_type": "execute_result",
          "data": {
            "text/plain": [
              "<matplotlib.axes._subplots.AxesSubplot at 0x7f616007ea50>"
            ]
          },
          "metadata": {},
          "execution_count": 27
        },
        {
          "output_type": "display_data",
          "data": {
            "text/plain": [
              "<Figure size 432x288 with 1 Axes>"
            ],
            "image/png": "[encoded data removed]"
          },
          "metadata": {
            "needs_background": "light"
          }
        }
      ],
      "source": [
        "series['Wind Speed (m/s)'].plot()"
      ]
    },
    {
      "cell_type": "code",
      "execution_count": 28,
      "metadata": {
        "id": "QBOBEkQIyFRm",
        "colab": {
          "base_uri": "https://localhost:8080/",
          "height": 294
        },
        "outputId": "1645a5f4-e8f2-4329-e1ba-9bbf9f8292e6"
      },
      "outputs": [
        {
          "output_type": "execute_result",
          "data": {
            "text/plain": [
              "<matplotlib.axes._subplots.AxesSubplot at 0x7f615f944590>"
            ]
          },
          "metadata": {},
          "execution_count": 28
        },
        {
          "output_type": "display_data",
          "data": {
            "text/plain": [
              "<Figure size 432x288 with 1 Axes>"
            ],
            "image/png": "[encoded data removed]"
          },
          "metadata": {
            "needs_background": "light"
          }
        }
      ],
      "source": [
        "series['Wind Direction (°)'].plot()"
      ]
    },
    {
      "cell_type": "code",
      "execution_count": 29,
      "metadata": {
        "id": "PG42wqVAdTEx",
        "colab": {
          "base_uri": "https://localhost:8080/",
          "height": 608
        },
        "outputId": "c13178d1-c9ec-4a08-8f0f-7d795766ec46"
      },
      "outputs": [
        {
          "output_type": "display_data",
          "data": {
            "text/plain": [
              "<Figure size 720x720 with 4 Axes>"
            ],
            "image/png": "[encoded data removed]"
          },
          "metadata": {
            "needs_background": "light"
          }
        }
      ],
      "source": [
        "series.hist(figsize=(10,10))\n",
        "plt.show()"
      ]
    },
    {
      "cell_type": "markdown",
      "metadata": {
        "id": "j4N_zRkRdwKw"
      },
      "source": [
        "Here,we can see that our data is not normalized, as there is no bell like structure, so we will scale down the data by MINMAXSCALAR function\n"
      ]
    },
    {
      "cell_type": "markdown",
      "metadata": {
        "id": "ZL7bDqDLvfuD"
      },
      "source": [
        "##Pie Bar Chart (Wind Direction VS Wind Speed)"
      ]
    },
    {
      "cell_type": "code",
      "execution_count": 30,
      "metadata": {
        "id": "8FT_4cMCviGW",
        "colab": {
          "base_uri": "https://localhost:8080/"
        },
        "outputId": "404e6c97-c3bc-4671-c413-4be5c5025c64"
      },
      "outputs": [
        {
          "output_type": "stream",
          "name": "stdout",
          "text": [
            "Requirement already satisfied: windrose in /usr/local/lib/python3.7/dist-packages (1.6.8)\n",
            "Requirement already satisfied: numpy in /usr/local/lib/python3.7/dist-packages (from windrose) (1.21.5)\n",
            "Requirement already satisfied: matplotlib in /usr/local/lib/python3.7/dist-packages (from windrose) (3.2.2)\n",
            "Requirement already satisfied: cycler>=0.10 in /usr/local/lib/python3.7/dist-packages (from matplotlib->windrose) (0.11.0)\n",
            "Requirement already satisfied: python-dateutil>=2.1 in /usr/local/lib/python3.7/dist-packages (from matplotlib->windrose) (2.8.2)\n",
            "Requirement already satisfied: kiwisolver>=1.0.1 in /usr/local/lib/python3.7/dist-packages (from matplotlib->windrose) (1.4.0)\n",
            "Requirement already satisfied: pyparsing!=2.0.4,!=2.1.2,!=2.1.6,>=2.0.1 in /usr/local/lib/python3.7/dist-packages (from matplotlib->windrose) (3.0.7)\n",
            "Requirement already satisfied: typing-extensions in /usr/local/lib/python3.7/dist-packages (from kiwisolver>=1.0.1->matplotlib->windrose) (3.10.0.2)\n",
            "Requirement already satisfied: six>=1.5 in /usr/local/lib/python3.7/dist-packages (from python-dateutil>=2.1->matplotlib->windrose) (1.15.0)\n"
          ]
        }
      ],
      "source": [
        "# Importing a visualization library\n",
        "! pip install windrose"
      ]
    },
    {
      "cell_type": "code",
      "execution_count": 31,
      "metadata": {
        "id": "9yNH37qCvpAm",
        "colab": {
          "base_uri": "https://localhost:8080/",
          "height": 607
        },
        "outputId": "a49333ad-b69c-4924-a71c-773a0fb67077"
      },
      "outputs": [
        {
          "output_type": "display_data",
          "data": {
            "text/plain": [
              "<Figure size 640x640 with 1 Axes>"
            ],
            "image/png": "[encoded data removed]"
          },
          "metadata": {}
        }
      ],
      "source": [
        "from windrose import WindroseAxes\n",
        "\n",
        "ax = WindroseAxes.from_ax()\n",
        "ax.bar(series['Wind Direction (°)'], series['Wind Speed (m/s)'], normed=True, opening=0.8, edgecolor='white')\n",
        "ax.set_legend()\n",
        "plt.title(\"Wind Direction (°) VS Wind Speed (m/s)\")\n",
        "plt.show()"
      ]
    },
    {
      "cell_type": "markdown",
      "metadata": {
        "id": "Le4GKDzRwNpI"
      },
      "source": [
        "##KDE plot\n",
        "\n",
        "A kernel density estimate (KDE) plot is a method for visualizing the distribution of observations in a dataset, analagous to a histogram. KDE represents the data using a continuous probability density curve in one or more dimensions"
      ]
    },
    {
      "cell_type": "code",
      "execution_count": 32,
      "metadata": {
        "id": "60ohV-IyulPm",
        "colab": {
          "base_uri": "https://localhost:8080/",
          "height": 585
        },
        "outputId": "9c57d607-5aba-4d53-8161-f61eabc2bd9e"
      },
      "outputs": [
        {
          "output_type": "display_data",
          "data": {
            "text/plain": [
              "<Figure size 720x576 with 4 Axes>"
            ],
            "image/png": "[encoded data removed]"
          },
          "metadata": {
            "needs_background": "light"
          }
        }
      ],
      "source": [
        "#plotting the data distribution\n",
        "plt.figure(figsize=(10, 8))\n",
        "for i in range(4):\n",
        "    plt.subplot(2, 2, i+1)\n",
        "    sns.kdeplot(series.iloc[:,i], shade=True)\n",
        "    plt.title(series.columns[i])\n",
        "plt.tight_layout()\n",
        "plt.show()"
      ]
    },
    {
      "cell_type": "markdown",
      "metadata": {
        "id": "2oZ_oPvcycRB"
      },
      "source": [
        "##To check data is stationary"
      ]
    },
    {
      "cell_type": "code",
      "execution_count": 33,
      "metadata": {
        "id": "Bz4Y6SZYye7h",
        "colab": {
          "base_uri": "https://localhost:8080/"
        },
        "outputId": "392a69e2-979a-4a79-e98e-1353a6c45a9d"
      },
      "outputs": [
        {
          "output_type": "stream",
          "name": "stderr",
          "text": [
            "/usr/local/lib/python3.7/dist-packages/statsmodels/tools/_testing.py:19: FutureWarning: pandas.util.testing is deprecated. Use the functions in the public API at pandas.testing instead.\n",
            "  import pandas.util.testing as tm\n"
          ]
        },
        {
          "output_type": "stream",
          "name": "stdout",
          "text": [
            "ADF Statistic: -14.932536033900613\n",
            "p-value: 1.3595630952781274e-27\n",
            "Critial Values:\n",
            "   1%, -3.4304794464033166\n",
            "Critial Values:\n",
            "   5%, -2.861597212664768\n",
            "Critial Values:\n",
            "   10%, -2.566800452407002\n"
          ]
        }
      ],
      "source": [
        "##WIND SPEED\n",
        "from statsmodels.tsa.stattools import adfuller\n",
        "import random\n",
        "random.seed(7)\n",
        "# ADF Test\n",
        "#Augmented Dickey–Fuller test\n",
        "result = adfuller(series[\"Wind Speed (m/s)\"].values, autolag='AIC')\n",
        "print(f'ADF Statistic: {result[0]}')\n",
        "print(f'p-value: {result[1]}')\n",
        "for key, value in result[4].items():\n",
        "    print('Critial Values:')\n",
        "    print(f'   {key}, {value}')"
      ]
    },
    {
      "cell_type": "code",
      "execution_count": 34,
      "metadata": {
        "id": "zBrWqcC7yi0G",
        "colab": {
          "base_uri": "https://localhost:8080/"
        },
        "outputId": "fb4eaeb8-4e17-4cca-adca-e8a31b9a5339"
      },
      "outputs": [
        {
          "output_type": "stream",
          "name": "stdout",
          "text": [
            "ADF Statistic: -12.650255902083122\n",
            "p-value: 1.3732987440401944e-23\n",
            "Critial Values:\n",
            "   1%, -3.430479546414538\n",
            "Critial Values:\n",
            "   5%, -2.8615972568667196\n",
            "Critial Values:\n",
            "   10%, -2.566800475934405\n"
          ]
        }
      ],
      "source": [
        "##WIND DIRECTION\n",
        "from statsmodels.tsa.stattools import adfuller\n",
        "import random\n",
        "random.seed(7)\n",
        "# ADF Test\n",
        "#Augmented Dickey–Fuller test\n",
        "result = adfuller(series[\"Wind Direction (°)\"].values, autolag='AIC')\n",
        "print(f'ADF Statistic: {result[0]}')\n",
        "print(f'p-value: {result[1]}')\n",
        "for key, value in result[4].items():\n",
        "    print('Critial Values:')\n",
        "    print(f'   {key}, {value}')"
      ]
    },
    {
      "cell_type": "markdown",
      "metadata": {
        "id": "hKZ-T5uLxMy1"
      },
      "source": [
        "##Applying LSTM to Wind direction"
      ]
    },
    {
      "cell_type": "code",
      "execution_count": 35,
      "metadata": {
        "id": "Q_r6CwSFtzs_"
      },
      "outputs": [],
      "source": [
        "batch_size_exp = 1\n",
        "epoch_exp = 7\n",
        "neurons_exp = 10\n",
        "predict_values_exp = 72\n",
        "lag_exp=24"
      ]
    },
    {
      "cell_type": "code",
      "execution_count": 36,
      "metadata": {
        "id": "lP7vYs68ndhk"
      },
      "outputs": [],
      "source": [
        "# frame a sequence as a supervised learning problem\n",
        "def timeseries_to_supervised(data, lag=1):\n",
        "    df = DataFrame(data)\n",
        "    columns = [df.shift(i) for i in range(1, lag+1)]\n",
        "    columns.append(df)\n",
        "    df = concat(columns, axis=1)\n",
        "    df.fillna(0, inplace=True)\n",
        "    return df"
      ]
    },
    {
      "cell_type": "code",
      "execution_count": 37,
      "metadata": {
        "id": "enZOwS8LndlF"
      },
      "outputs": [],
      "source": [
        "# create a differenced series between the past and present values\n",
        "def difference(dataset, interval=1):\n",
        "    diff = list()\n",
        "    for i in range(interval, len(dataset)):\n",
        "        value = dataset[i] - dataset[i - interval]\n",
        "        diff.append(value)\n",
        "    return Series(diff)"
      ]
    },
    {
      "cell_type": "code",
      "execution_count": 38,
      "metadata": {
        "id": "j6waLz_8ndmz"
      },
      "outputs": [],
      "source": [
        "#it is used for predicted values to inverse\n",
        "def inverse_difference(history, yhat, interval=1):\n",
        "    return yhat + history[-interval]"
      ]
    },
    {
      "cell_type": "code",
      "execution_count": 39,
      "metadata": {
        "id": "yoKaoI79ndqz"
      },
      "outputs": [],
      "source": [
        "# scale train and test data to [-1, 1]\n",
        "def scale(train, test):\n",
        "    # fit scaler\n",
        "    scaler = MinMaxScaler(feature_range=(-1, 1))\n",
        "    scaler = scaler.fit(train)\n",
        "    # transform train\n",
        "    train = train.reshape(train.shape[0], train.shape[1])\n",
        "    train_scaled = scaler.transform(train)\n",
        "    # transform test\n",
        "    test = test.reshape(test.shape[0], test.shape[1])\n",
        "    test_scaled = scaler.transform(test)\n",
        "    return scaler, train_scaled, test_scaled"
      ]
    },
    {
      "cell_type": "code",
      "execution_count": 40,
      "metadata": {
        "id": "QaktwBeyOdzh"
      },
      "outputs": [],
      "source": [
        "# inverse scaling for a forecasted value\n",
        "def invert_scale(scaler, X, value):\n",
        "    new_row = [x for x in X] + [value]\n",
        "    array = np.array(new_row)\n",
        "    array = array.reshape(1, len(array))\n",
        "    inverted = scaler.inverse_transform(array)\n",
        "    return inverted[0, -1]"
      ]
    },
    {
      "cell_type": "code",
      "execution_count": 41,
      "metadata": {
        "id": "AIjpvkxAOd1h"
      },
      "outputs": [],
      "source": [
        "# fit an LSTM network to training data\n",
        "def fit_lstm(train, batch_size, nb_epoch, neurons):\n",
        "    X, y = train[:, 0:-1], train[:, -1]\n",
        "    X = X.reshape(X.shape[0], 1, X.shape[1])\n",
        "    model = Sequential()\n",
        "    model.add(LSTM(neurons, batch_input_shape=(batch_size, X.shape[1], X.shape[2]), stateful=True))\n",
        "    model.add(Dense(1))\n",
        "    model.compile(loss='mean_squared_error', optimizer='adam')\n",
        "    for i in range(nb_epoch):\n",
        "        model.fit(X, y, epochs=1, batch_size=batch_size, verbose=1, shuffle=False)\n",
        "        model.reset_states()\n",
        "    return model"
      ]
    },
    {
      "cell_type": "code",
      "execution_count": 42,
      "metadata": {
        "id": "ICk9f__lOd5Y"
      },
      "outputs": [],
      "source": [
        "# make a one-step forecast\n",
        "def forecast_lstm(model, batch_size, X):\n",
        "    X = X.reshape(1, 1, len(X))\n",
        "    #print(X)\n",
        "    yhat = model.predict(X, batch_size=1)\n",
        "    return yhat[0,0]"
      ]
    },
    {
      "cell_type": "code",
      "execution_count": 43,
      "metadata": {
        "id": "CGKv7slVOd-s",
        "colab": {
          "base_uri": "https://localhost:8080/",
          "height": 238
        },
        "outputId": "cd52eff8-7b9f-4bc8-d3f4-0c29ffcf534a"
      },
      "outputs": [
        {
          "output_type": "execute_result",
          "data": {
            "text/plain": [
              "                     Wind Direction (°)\n",
              "Date/Time                              \n",
              "2018-01-01 00:00:00          259.994904\n",
              "2018-01-01 00:10:00          268.641113\n",
              "2018-01-01 00:20:00          272.564789\n",
              "2018-01-01 00:30:00          271.258087\n",
              "2018-01-01 00:40:00          265.674286"
            ],
            "text/html": [
              "\n",
              "  <div id=\"df-14d54640-7972-4029-8c58-5c4cddd9c9f5\">\n",
              "    <div class=\"colab-df-container\">\n",
              "      <div>\n",
              "<style scoped>\n",
              "    .dataframe tbody tr th:only-of-type {\n",
              "        vertical-align: middle;\n",
              "    }\n",
              "\n",
              "    .dataframe tbody tr th {\n",
              "        vertical-align: top;\n",
              "    }\n",
              "\n",
              "    .dataframe thead th {\n",
              "        text-align: right;\n",
              "    }\n",
              "</style>\n",
              "<table border=\"1\" class=\"dataframe\">\n",
              "  <thead>\n",
              "    <tr style=\"text-align: right;\">\n",
              "      <th></th>\n",
              "      <th>Wind Direction (°)</th>\n",
              "    </tr>\n",
              "    <tr>\n",
              "      <th>Date/Time</th>\n",
              "      <th></th>\n",
              "    </tr>\n",
              "  </thead>\n",
              "  <tbody>\n",
              "    <tr>\n",
              "      <th>2018-01-01 00:00:00</th>\n",
              "      <td>259.994904</td>\n",
              "    </tr>\n",
              "    <tr>\n",
              "      <th>2018-01-01 00:10:00</th>\n",
              "      <td>268.641113</td>\n",
              "    </tr>\n",
              "    <tr>\n",
              "      <th>2018-01-01 00:20:00</th>\n",
              "      <td>272.564789</td>\n",
              "    </tr>\n",
              "    <tr>\n",
              "      <th>2018-01-01 00:30:00</th>\n",
              "      <td>271.258087</td>\n",
              "    </tr>\n",
              "    <tr>\n",
              "      <th>2018-01-01 00:40:00</th>\n",
              "      <td>265.674286</td>\n",
              "    </tr>\n",
              "  </tbody>\n",
              "</table>\n",
              "</div>\n",
              "      <button class=\"colab-df-convert\" onclick=\"convertToInteractive('df-14d54640-7972-4029-8c58-5c4cddd9c9f5')\"\n",
              "              title=\"Convert this dataframe to an interactive table.\"\n",
              "              style=\"display:none;\">\n",
              "        \n",
              "  <svg xmlns=\"http://www.w3.org/2000/svg\" height=\"24px\"viewBox=\"0 0 24 24\"\n",
              "       width=\"24px\">\n",
              "    <path d=\"M0 0h24v24H0V0z\" fill=\"none\"/>\n",
              "    <path d=\"M18.56 5.44l.94 2.06.94-2.06 2.06-.94-2.06-.94-.94-2.06-.94 2.06-2.06.94zm-11 1L8.5 8.5l.94-2.06 2.06-.94-2.06-.94L8.5 2.5l-.94 2.06-2.06.94zm10 10l.94 2.06.94-2.06 2.06-.94-2.06-.94-.94-2.06-.94 2.06-2.06.94z\"/><path d=\"M17.41 7.96l-1.37-1.37c-.4-.4-.92-.59-1.43-.59-.52 0-1.04.2-1.43.59L10.3 9.45l-7.72 7.72c-.78.78-.78 2.05 0 2.83L4 21.41c.39.39.9.59 1.41.59.51 0 1.02-.2 1.41-.59l7.78-7.78 2.81-2.81c.8-.78.8-2.07 0-2.86zM5.41 20L4 18.59l7.72-7.72 1.47 1.35L5.41 20z\"/>\n",
              "  </svg>\n",
              "      </button>\n",
              "      \n",
              "  <style>\n",
              "    .colab-df-container {\n",
              "      display:flex;\n",
              "      flex-wrap:wrap;\n",
              "      gap: 12px;\n",
              "    }\n",
              "\n",
              "    .colab-df-convert {\n",
              "      background-color: #E8F0FE;\n",
              "      border: none;\n",
              "      border-radius: 50%;\n",
              "      cursor: pointer;\n",
              "      display: none;\n",
              "      fill: #1967D2;\n",
              "      height: 32px;\n",
              "      padding: 0 0 0 0;\n",
              "      width: 32px;\n",
              "    }\n",
              "\n",
              "    .colab-df-convert:hover {\n",
              "      background-color: #E2EBFA;\n",
              "      box-shadow: 0px 1px 2px rgba(60, 64, 67, 0.3), 0px 1px 3px 1px rgba(60, 64, 67, 0.15);\n",
              "      fill: #174EA6;\n",
              "    }\n",
              "\n",
              "    [theme=dark] .colab-df-convert {\n",
              "      background-color: #3B4455;\n",
              "      fill: #D2E3FC;\n",
              "    }\n",
              "\n",
              "    [theme=dark] .colab-df-convert:hover {\n",
              "      background-color: #434B5C;\n",
              "      box-shadow: 0px 1px 3px 1px rgba(0, 0, 0, 0.15);\n",
              "      filter: drop-shadow(0px 1px 2px rgba(0, 0, 0, 0.3));\n",
              "      fill: #FFFFFF;\n",
              "    }\n",
              "  </style>\n",
              "\n",
              "      <script>\n",
              "        const buttonEl =\n",
              "          document.querySelector('#df-14d54640-7972-4029-8c58-5c4cddd9c9f5 button.colab-df-convert');\n",
              "        buttonEl.style.display =\n",
              "          google.colab.kernel.accessAllowed ? 'block' : 'none';\n",
              "\n",
              "        async function convertToInteractive(key) {\n",
              "          const element = document.querySelector('#df-14d54640-7972-4029-8c58-5c4cddd9c9f5');\n",
              "          const dataTable =\n",
              "            await google.colab.kernel.invokeFunction('convertToInteractive',\n",
              "                                                     [key], {});\n",
              "          if (!dataTable) return;\n",
              "\n",
              "          const docLinkHtml = 'Like what you see? Visit the ' +\n",
              "            '<a target=\"_blank\" href=https://colab.research.google.com/notebooks/data_table.ipynb>data table notebook</a>'\n",
              "            + ' to learn more about interactive tables.';\n",
              "          element.innerHTML = '';\n",
              "          dataTable['output_type'] = 'display_data';\n",
              "          await google.colab.output.renderOutput(dataTable, element);\n",
              "          const docLink = document.createElement('div');\n",
              "          docLink.innerHTML = docLinkHtml;\n",
              "          element.appendChild(docLink);\n",
              "        }\n",
              "      </script>\n",
              "    </div>\n",
              "  </div>\n",
              "  "
            ]
          },
          "metadata": {},
          "execution_count": 43
        }
      ],
      "source": [
        "del series['LV ActivePower (kW)']\n",
        "del series['Wind Speed (m/s)']\n",
        "del series['Theoretical_Power_Curve (KWh)']\n",
        "series.head()"
      ]
    },
    {
      "cell_type": "code",
      "execution_count": 44,
      "metadata": {
        "id": "ifEhlNyiOeBm",
        "colab": {
          "base_uri": "https://localhost:8080/",
          "height": 238
        },
        "outputId": "48e99e89-a3df-4754-f5bc-45876d59494c"
      },
      "outputs": [
        {
          "output_type": "execute_result",
          "data": {
            "text/plain": [
              "                     Wind Direction (°)\n",
              "Date/Time                              \n",
              "2018-12-31 21:30:00           79.699562\n",
              "2018-12-31 21:40:00           80.132507\n",
              "2018-12-31 21:50:00           80.081612\n",
              "2018-12-31 22:00:00           80.452248\n",
              "2018-12-31 22:10:00           80.960693"
            ],
            "text/html": [
              "\n",
              "  <div id=\"df-799b1df1-2777-4325-8e24-2e9daf5046c7\">\n",
              "    <div class=\"colab-df-container\">\n",
              "      <div>\n",
              "<style scoped>\n",
              "    .dataframe tbody tr th:only-of-type {\n",
              "        vertical-align: middle;\n",
              "    }\n",
              "\n",
              "    .dataframe tbody tr th {\n",
              "        vertical-align: top;\n",
              "    }\n",
              "\n",
              "    .dataframe thead th {\n",
              "        text-align: right;\n",
              "    }\n",
              "</style>\n",
              "<table border=\"1\" class=\"dataframe\">\n",
              "  <thead>\n",
              "    <tr style=\"text-align: right;\">\n",
              "      <th></th>\n",
              "      <th>Wind Direction (°)</th>\n",
              "    </tr>\n",
              "    <tr>\n",
              "      <th>Date/Time</th>\n",
              "      <th></th>\n",
              "    </tr>\n",
              "  </thead>\n",
              "  <tbody>\n",
              "    <tr>\n",
              "      <th>2018-12-31 21:30:00</th>\n",
              "      <td>79.699562</td>\n",
              "    </tr>\n",
              "    <tr>\n",
              "      <th>2018-12-31 21:40:00</th>\n",
              "      <td>80.132507</td>\n",
              "    </tr>\n",
              "    <tr>\n",
              "      <th>2018-12-31 21:50:00</th>\n",
              "      <td>80.081612</td>\n",
              "    </tr>\n",
              "    <tr>\n",
              "      <th>2018-12-31 22:00:00</th>\n",
              "      <td>80.452248</td>\n",
              "    </tr>\n",
              "    <tr>\n",
              "      <th>2018-12-31 22:10:00</th>\n",
              "      <td>80.960693</td>\n",
              "    </tr>\n",
              "  </tbody>\n",
              "</table>\n",
              "</div>\n",
              "      <button class=\"colab-df-convert\" onclick=\"convertToInteractive('df-799b1df1-2777-4325-8e24-2e9daf5046c7')\"\n",
              "              title=\"Convert this dataframe to an interactive table.\"\n",
              "              style=\"display:none;\">\n",
              "        \n",
              "  <svg xmlns=\"http://www.w3.org/2000/svg\" height=\"24px\"viewBox=\"0 0 24 24\"\n",
              "       width=\"24px\">\n",
              "    <path d=\"M0 0h24v24H0V0z\" fill=\"none\"/>\n",
              "    <path d=\"M18.56 5.44l.94 2.06.94-2.06 2.06-.94-2.06-.94-.94-2.06-.94 2.06-2.06.94zm-11 1L8.5 8.5l.94-2.06 2.06-.94-2.06-.94L8.5 2.5l-.94 2.06-2.06.94zm10 10l.94 2.06.94-2.06 2.06-.94-2.06-.94-.94-2.06-.94 2.06-2.06.94z\"/><path d=\"M17.41 7.96l-1.37-1.37c-.4-.4-.92-.59-1.43-.59-.52 0-1.04.2-1.43.59L10.3 9.45l-7.72 7.72c-.78.78-.78 2.05 0 2.83L4 21.41c.39.39.9.59 1.41.59.51 0 1.02-.2 1.41-.59l7.78-7.78 2.81-2.81c.8-.78.8-2.07 0-2.86zM5.41 20L4 18.59l7.72-7.72 1.47 1.35L5.41 20z\"/>\n",
              "  </svg>\n",
              "      </button>\n",
              "      \n",
              "  <style>\n",
              "    .colab-df-container {\n",
              "      display:flex;\n",
              "      flex-wrap:wrap;\n",
              "      gap: 12px;\n",
              "    }\n",
              "\n",
              "    .colab-df-convert {\n",
              "      background-color: #E8F0FE;\n",
              "      border: none;\n",
              "      border-radius: 50%;\n",
              "      cursor: pointer;\n",
              "      display: none;\n",
              "      fill: #1967D2;\n",
              "      height: 32px;\n",
              "      padding: 0 0 0 0;\n",
              "      width: 32px;\n",
              "    }\n",
              "\n",
              "    .colab-df-convert:hover {\n",
              "      background-color: #E2EBFA;\n",
              "      box-shadow: 0px 1px 2px rgba(60, 64, 67, 0.3), 0px 1px 3px 1px rgba(60, 64, 67, 0.15);\n",
              "      fill: #174EA6;\n",
              "    }\n",
              "\n",
              "    [theme=dark] .colab-df-convert {\n",
              "      background-color: #3B4455;\n",
              "      fill: #D2E3FC;\n",
              "    }\n",
              "\n",
              "    [theme=dark] .colab-df-convert:hover {\n",
              "      background-color: #434B5C;\n",
              "      box-shadow: 0px 1px 3px 1px rgba(0, 0, 0, 0.15);\n",
              "      filter: drop-shadow(0px 1px 2px rgba(0, 0, 0, 0.3));\n",
              "      fill: #FFFFFF;\n",
              "    }\n",
              "  </style>\n",
              "\n",
              "      <script>\n",
              "        const buttonEl =\n",
              "          document.querySelector('#df-799b1df1-2777-4325-8e24-2e9daf5046c7 button.colab-df-convert');\n",
              "        buttonEl.style.display =\n",
              "          google.colab.kernel.accessAllowed ? 'block' : 'none';\n",
              "\n",
              "        async function convertToInteractive(key) {\n",
              "          const element = document.querySelector('#df-799b1df1-2777-4325-8e24-2e9daf5046c7');\n",
              "          const dataTable =\n",
              "            await google.colab.kernel.invokeFunction('convertToInteractive',\n",
              "                                                     [key], {});\n",
              "          if (!dataTable) return;\n",
              "\n",
              "          const docLinkHtml = 'Like what you see? Visit the ' +\n",
              "            '<a target=\"_blank\" href=https://colab.research.google.com/notebooks/data_table.ipynb>data table notebook</a>'\n",
              "            + ' to learn more about interactive tables.';\n",
              "          element.innerHTML = '';\n",
              "          dataTable['output_type'] = 'display_data';\n",
              "          await google.colab.output.renderOutput(dataTable, element);\n",
              "          const docLink = document.createElement('div');\n",
              "          docLink.innerHTML = docLinkHtml;\n",
              "          element.appendChild(docLink);\n",
              "        }\n",
              "      </script>\n",
              "    </div>\n",
              "  </div>\n",
              "  "
            ]
          },
          "metadata": {},
          "execution_count": 44
        }
      ],
      "source": [
        "for i in range(0,10):\n",
        "  series = series[:-1]\n",
        "series.tail()"
      ]
    },
    {
      "cell_type": "code",
      "execution_count": 45,
      "metadata": {
        "id": "UtHYsCDsTOOc",
        "colab": {
          "base_uri": "https://localhost:8080/"
        },
        "outputId": "308d77b3-c591-4b9e-d9c1-c7a111fc47a5"
      },
      "outputs": [
        {
          "output_type": "execute_result",
          "data": {
            "text/plain": [
              "(50520, 1)"
            ]
          },
          "metadata": {},
          "execution_count": 45
        }
      ],
      "source": [
        "series.shape"
      ]
    },
    {
      "cell_type": "code",
      "execution_count": 46,
      "metadata": {
        "id": "EF3n8TwYTOQZ"
      },
      "outputs": [],
      "source": [
        "# transform data to be stationary\n",
        "raw_values = series.values\n",
        "diff_values = difference(raw_values, 1)"
      ]
    },
    {
      "cell_type": "code",
      "execution_count": 47,
      "metadata": {
        "id": "qiB2hWNzTOTs"
      },
      "outputs": [],
      "source": [
        "# transform data to be supervised learning\n",
        "supervised = timeseries_to_supervised(diff_values, lag_exp)\n",
        "supervised_values = supervised.values"
      ]
    },
    {
      "cell_type": "code",
      "execution_count": 48,
      "metadata": {
        "id": "443jQe3nTOW7"
      },
      "outputs": [],
      "source": [
        "# split data into train and test-sets\n",
        "train, test = supervised_values[0:-predict_values_exp], supervised_values[-predict_values_exp:]"
      ]
    },
    {
      "cell_type": "code",
      "execution_count": 49,
      "metadata": {
        "id": "f6wH-rDUVTwf"
      },
      "outputs": [],
      "source": [
        "# transform the scale of the data\n",
        "scaler, train_scaled, test_scaled = scale(train, test)"
      ]
    },
    {
      "cell_type": "code",
      "execution_count": 50,
      "metadata": {
        "colab": {
          "base_uri": "https://localhost:8080/"
        },
        "id": "z2QN8BdhVTyV",
        "outputId": "2f4d1fc5-2a58-4548-c993-95ee72b9f2a4"
      },
      "outputs": [
        {
          "output_type": "stream",
          "name": "stdout",
          "text": [
            "50447/50447 [==============================] - 103s 2ms/step - loss: 0.0111\n",
            "50447/50447 [==============================] - 96s 2ms/step - loss: 0.0109\n",
            "50447/50447 [==============================] - 98s 2ms/step - loss: 0.0108\n",
            "50447/50447 [==============================] - 95s 2ms/step - loss: 0.0107\n",
            "50447/50447 [==============================] - 96s 2ms/step - loss: 0.0106\n",
            "50447/50447 [==============================] - 94s 2ms/step - loss: 0.0105\n",
            "50447/50447 [==============================] - 94s 2ms/step - loss: 0.0105\n"
          ]
        }
      ],
      "source": [
        "lstm_model = fit_lstm(train_scaled, batch_size_exp, epoch_exp, neurons_exp)"
      ]
    },
    {
      "cell_type": "code",
      "execution_count": 51,
      "metadata": {
        "colab": {
          "base_uri": "https://localhost:8080/"
        },
        "id": "dK81xtMSVT18",
        "outputId": "ee546288-53d1-4881-d175-dd6235eb1617"
      },
      "outputs": [
        {
          "output_type": "stream",
          "name": "stdout",
          "text": [
            "Hour=1, Predicted=77.542413, Expected=67.674561\n",
            "Hour=2, Predicted=61.217341, Expected=71.880203\n",
            "Hour=3, Predicted=67.836702, Expected=80.607430\n",
            "Hour=4, Predicted=90.245455, Expected=81.242447\n",
            "Hour=5, Predicted=65.436385, Expected=95.116180\n",
            "Hour=6, Predicted=81.584934, Expected=108.525902\n",
            "Hour=7, Predicted=112.962480, Expected=99.066833\n",
            "Hour=8, Predicted=110.630926, Expected=83.458061\n",
            "Hour=9, Predicted=85.341465, Expected=87.656326\n",
            "Hour=10, Predicted=82.404183, Expected=78.961700\n",
            "Hour=11, Predicted=81.454204, Expected=87.310623\n",
            "Hour=12, Predicted=88.683523, Expected=89.737091\n",
            "Hour=13, Predicted=99.416596, Expected=82.736252\n",
            "Hour=14, Predicted=75.708268, Expected=81.974297\n",
            "Hour=15, Predicted=79.834486, Expected=73.194389\n",
            "Hour=16, Predicted=78.531089, Expected=75.005074\n",
            "Hour=17, Predicted=88.728631, Expected=79.551987\n",
            "Hour=18, Predicted=72.558664, Expected=76.018478\n",
            "Hour=19, Predicted=73.647345, Expected=78.276291\n",
            "Hour=20, Predicted=77.548125, Expected=68.145531\n",
            "Hour=21, Predicted=73.785775, Expected=71.954659\n",
            "Hour=22, Predicted=74.155263, Expected=69.709587\n",
            "Hour=23, Predicted=71.048002, Expected=63.816212\n",
            "Hour=24, Predicted=63.024129, Expected=56.398918\n",
            "Hour=25, Predicted=56.708256, Expected=57.145569\n",
            "Hour=26, Predicted=59.264900, Expected=55.499611\n",
            "Hour=27, Predicted=55.985796, Expected=57.752941\n",
            "Hour=28, Predicted=55.510068, Expected=65.545662\n",
            "Hour=29, Predicted=66.258725, Expected=67.542412\n",
            "Hour=30, Predicted=69.997193, Expected=67.638237\n",
            "Hour=31, Predicted=69.443699, Expected=70.322388\n",
            "Hour=32, Predicted=69.440609, Expected=72.430473\n",
            "Hour=33, Predicted=72.540260, Expected=74.770714\n",
            "Hour=34, Predicted=74.938901, Expected=74.835281\n",
            "Hour=35, Predicted=76.972466, Expected=76.580833\n",
            "Hour=36, Predicted=77.034329, Expected=74.678101\n",
            "Hour=37, Predicted=74.570950, Expected=75.286987\n",
            "Hour=38, Predicted=75.210916, Expected=76.233170\n",
            "Hour=39, Predicted=78.620241, Expected=76.356567\n",
            "Hour=40, Predicted=76.936168, Expected=76.052834\n",
            "Hour=41, Predicted=76.159385, Expected=85.393311\n",
            "Hour=42, Predicted=85.487191, Expected=85.161186\n",
            "Hour=43, Predicted=86.376301, Expected=81.050690\n",
            "Hour=44, Predicted=82.152327, Expected=86.718536\n",
            "Hour=45, Predicted=87.648670, Expected=91.986732\n",
            "Hour=46, Predicted=92.389343, Expected=94.691391\n",
            "Hour=47, Predicted=95.290760, Expected=92.350723\n",
            "Hour=48, Predicted=93.289894, Expected=91.588493\n",
            "Hour=49, Predicted=92.681366, Expected=94.329742\n",
            "Hour=50, Predicted=94.746124, Expected=98.706261\n",
            "Hour=51, Predicted=99.282857, Expected=97.239059\n",
            "Hour=52, Predicted=98.138705, Expected=99.136337\n",
            "Hour=53, Predicted=100.244562, Expected=97.632187\n",
            "Hour=54, Predicted=98.265393, Expected=90.309258\n",
            "Hour=55, Predicted=90.935385, Expected=87.520317\n",
            "Hour=56, Predicted=88.109491, Expected=84.240913\n",
            "Hour=57, Predicted=85.180293, Expected=78.987038\n",
            "Hour=58, Predicted=79.818628, Expected=79.042793\n",
            "Hour=59, Predicted=79.760427, Expected=78.169724\n",
            "Hour=60, Predicted=78.680451, Expected=78.773773\n",
            "Hour=61, Predicted=79.645301, Expected=80.061111\n",
            "Hour=62, Predicted=80.894214, Expected=81.279243\n",
            "Hour=63, Predicted=81.994973, Expected=79.519127\n",
            "Hour=64, Predicted=80.114964, Expected=81.056862\n",
            "Hour=65, Predicted=81.802433, Expected=80.272682\n",
            "Hour=66, Predicted=81.059388, Expected=79.394409\n",
            "Hour=67, Predicted=80.193625, Expected=79.356262\n",
            "Hour=68, Predicted=80.041651, Expected=79.699562\n",
            "Hour=69, Predicted=80.384104, Expected=80.132507\n",
            "Hour=70, Predicted=80.855610, Expected=80.081612\n",
            "Hour=71, Predicted=80.893856, Expected=80.452248\n",
            "Hour=72, Predicted=81.173645, Expected=80.960693\n"
          ]
        }
      ],
      "source": [
        "predictions = list()\n",
        "expectations = list()\n",
        "test_pred = list()\n",
        "for i in range(len(test_scaled)):\n",
        "    # make one-step forecast\n",
        "    X, y = test_scaled[i, 0:-1], test_scaled[i, -1]\n",
        "    yhat = forecast_lstm(lstm_model, 1, X)#batch_size_exp to 1\n",
        "    '''# Start Debug prints\n",
        "    print(\"X: %\", X)\n",
        "    print(\"yhat: %\", yhat)\n",
        "    # End Debug prints'''\n",
        "    # Replacing value in test scaled with the predicted value.\n",
        "    test_pred = [yhat] + test_pred \n",
        "    if len(test_pred) > lag_exp+1:\n",
        "        test_pred = test_pred[:-1]\n",
        "    if i+1<len(test_scaled):\n",
        "        if i+1 > lag_exp+1:\n",
        "            test_scaled[i+1] = test_pred\n",
        "        else:\n",
        "            test_scaled[i+1] = np.concatenate((test_pred, test_scaled[i+1, i+1:]),axis=0)\n",
        "\n",
        "    # invert scaling\n",
        "    yhat = invert_scale(scaler, X, yhat)\n",
        "    # invert differencing\n",
        "    yhat = inverse_difference(raw_values, yhat, len(test_scaled)+1-i)\n",
        "    # store forecast\n",
        "    expected = raw_values[len(train) + i + 1]\n",
        "    if expected != 0:\n",
        "        predictions.append(yhat)\n",
        "        expectations.append(expected)\n",
        "    print('Hour=%d, Predicted=%f, Expected=%f' % (i+1, yhat, expected))"
      ]
    },
    {
      "cell_type": "code",
      "execution_count": 52,
      "metadata": {
        "id": "l3wZMEozZ7O1"
      },
      "outputs": [],
      "source": [
        "direction = predictions"
      ]
    },
    {
      "cell_type": "code",
      "execution_count": 53,
      "metadata": {
        "colab": {
          "base_uri": "https://localhost:8080/"
        },
        "id": "12s6yOWKVT5E",
        "outputId": "3166f35d-9e9f-481b-83fc-f69f8018e33f"
      },
      "outputs": [
        {
          "output_type": "stream",
          "name": "stdout",
          "text": [
            "Mean Absolute Percent Error:  5.847189821986917\n"
          ]
        }
      ],
      "source": [
        "expectations = np.array(expectations)\n",
        "predictions = np.array(predictions)\n",
        "print(\"Mean Absolute Percent Error: \", (np.mean(np.abs((expectations - predictions) / expectations))*100))"
      ]
    },
    {
      "cell_type": "code",
      "execution_count": 54,
      "metadata": {
        "id": "V7TFpvGZaWzh"
      },
      "outputs": [],
      "source": [
        "from matplotlib import pyplot"
      ]
    },
    {
      "cell_type": "code",
      "execution_count": 55,
      "metadata": {
        "colab": {
          "base_uri": "https://localhost:8080/",
          "height": 279
        },
        "id": "Hv52S6v1dWWj",
        "outputId": "d4b21a55-9611-4eb6-ea23-a99902ca5e06"
      },
      "outputs": [
        {
          "output_type": "display_data",
          "data": {
            "text/plain": [
              "<Figure size 432x288 with 1 Axes>"
            ],
            "image/png": "[encoded data removed]"
          },
          "metadata": {
            "needs_background": "light"
          }
        }
      ],
      "source": [
        "# line plot of observed vs predicted\n",
        "pyplot.plot(raw_values[-predict_values_exp:], label=\"True\")\n",
        "pyplot.plot(predictions, label=\"Predicted\")\n",
        "pyplot.legend(loc='upper right')\n",
        "pyplot.xlabel(\"Number of hours\")\n",
        "pyplot.ylabel(\"wind direction\")\n",
        "pyplot.show()"
      ]
    },
    {
      "cell_type": "markdown",
      "metadata": {
        "id": "NWT493VUxc1M"
      },
      "source": [
        "##Applying LSTM to Wind Speed"
      ]
    },
    {
      "cell_type": "code",
      "execution_count": 56,
      "metadata": {
        "colab": {
          "base_uri": "https://localhost:8080/",
          "height": 238
        },
        "id": "jMM1zByFzybn",
        "outputId": "cafe5b8d-0584-4d33-e7ec-987430d3b154"
      },
      "outputs": [
        {
          "output_type": "execute_result",
          "data": {
            "text/plain": [
              "                  LV ActivePower (kW)  Wind Speed (m/s)  \\\n",
              "Date/Time                                                 \n",
              "01 01 2018 00:00           380.047791          5.311336   \n",
              "01 01 2018 00:10           453.769196          5.672167   \n",
              "01 01 2018 00:20           306.376587          5.216037   \n",
              "01 01 2018 00:30           419.645905          5.659674   \n",
              "01 01 2018 00:40           380.650696          5.577941   \n",
              "\n",
              "                  Theoretical_Power_Curve (KWh)  Wind Direction (°)  \n",
              "Date/Time                                                            \n",
              "01 01 2018 00:00                     416.328908          259.994904  \n",
              "01 01 2018 00:10                     519.917511          268.641113  \n",
              "01 01 2018 00:20                     390.900016          272.564789  \n",
              "01 01 2018 00:30                     516.127569          271.258087  \n",
              "01 01 2018 00:40                     491.702972          265.674286  "
            ],
            "text/html": [
              "\n",
              "  <div id=\"df-337b194f-0854-468e-8ca4-6465561c6313\">\n",
              "    <div class=\"colab-df-container\">\n",
              "      <div>\n",
              "<style scoped>\n",
              "    .dataframe tbody tr th:only-of-type {\n",
              "        vertical-align: middle;\n",
              "    }\n",
              "\n",
              "    .dataframe tbody tr th {\n",
              "        vertical-align: top;\n",
              "    }\n",
              "\n",
              "    .dataframe thead th {\n",
              "        text-align: right;\n",
              "    }\n",
              "</style>\n",
              "<table border=\"1\" class=\"dataframe\">\n",
              "  <thead>\n",
              "    <tr style=\"text-align: right;\">\n",
              "      <th></th>\n",
              "      <th>LV ActivePower (kW)</th>\n",
              "      <th>Wind Speed (m/s)</th>\n",
              "      <th>Theoretical_Power_Curve (KWh)</th>\n",
              "      <th>Wind Direction (°)</th>\n",
              "    </tr>\n",
              "    <tr>\n",
              "      <th>Date/Time</th>\n",
              "      <th></th>\n",
              "      <th></th>\n",
              "      <th></th>\n",
              "      <th></th>\n",
              "    </tr>\n",
              "  </thead>\n",
              "  <tbody>\n",
              "    <tr>\n",
              "      <th>01 01 2018 00:00</th>\n",
              "      <td>380.047791</td>\n",
              "      <td>5.311336</td>\n",
              "      <td>416.328908</td>\n",
              "      <td>259.994904</td>\n",
              "    </tr>\n",
              "    <tr>\n",
              "      <th>01 01 2018 00:10</th>\n",
              "      <td>453.769196</td>\n",
              "      <td>5.672167</td>\n",
              "      <td>519.917511</td>\n",
              "      <td>268.641113</td>\n",
              "    </tr>\n",
              "    <tr>\n",
              "      <th>01 01 2018 00:20</th>\n",
              "      <td>306.376587</td>\n",
              "      <td>5.216037</td>\n",
              "      <td>390.900016</td>\n",
              "      <td>272.564789</td>\n",
              "    </tr>\n",
              "    <tr>\n",
              "      <th>01 01 2018 00:30</th>\n",
              "      <td>419.645905</td>\n",
              "      <td>5.659674</td>\n",
              "      <td>516.127569</td>\n",
              "      <td>271.258087</td>\n",
              "    </tr>\n",
              "    <tr>\n",
              "      <th>01 01 2018 00:40</th>\n",
              "      <td>380.650696</td>\n",
              "      <td>5.577941</td>\n",
              "      <td>491.702972</td>\n",
              "      <td>265.674286</td>\n",
              "    </tr>\n",
              "  </tbody>\n",
              "</table>\n",
              "</div>\n",
              "      <button class=\"colab-df-convert\" onclick=\"convertToInteractive('df-337b194f-0854-468e-8ca4-6465561c6313')\"\n",
              "              title=\"Convert this dataframe to an interactive table.\"\n",
              "              style=\"display:none;\">\n",
              "        \n",
              "  <svg xmlns=\"http://www.w3.org/2000/svg\" height=\"24px\"viewBox=\"0 0 24 24\"\n",
              "       width=\"24px\">\n",
              "    <path d=\"M0 0h24v24H0V0z\" fill=\"none\"/>\n",
              "    <path d=\"M18.56 5.44l.94 2.06.94-2.06 2.06-.94-2.06-.94-.94-2.06-.94 2.06-2.06.94zm-11 1L8.5 8.5l.94-2.06 2.06-.94-2.06-.94L8.5 2.5l-.94 2.06-2.06.94zm10 10l.94 2.06.94-2.06 2.06-.94-2.06-.94-.94-2.06-.94 2.06-2.06.94z\"/><path d=\"M17.41 7.96l-1.37-1.37c-.4-.4-.92-.59-1.43-.59-.52 0-1.04.2-1.43.59L10.3 9.45l-7.72 7.72c-.78.78-.78 2.05 0 2.83L4 21.41c.39.39.9.59 1.41.59.51 0 1.02-.2 1.41-.59l7.78-7.78 2.81-2.81c.8-.78.8-2.07 0-2.86zM5.41 20L4 18.59l7.72-7.72 1.47 1.35L5.41 20z\"/>\n",
              "  </svg>\n",
              "      </button>\n",
              "      \n",
              "  <style>\n",
              "    .colab-df-container {\n",
              "      display:flex;\n",
              "      flex-wrap:wrap;\n",
              "      gap: 12px;\n",
              "    }\n",
              "\n",
              "    .colab-df-convert {\n",
              "      background-color: #E8F0FE;\n",
              "      border: none;\n",
              "      border-radius: 50%;\n",
              "      cursor: pointer;\n",
              "      display: none;\n",
              "      fill: #1967D2;\n",
              "      height: 32px;\n",
              "      padding: 0 0 0 0;\n",
              "      width: 32px;\n",
              "    }\n",
              "\n",
              "    .colab-df-convert:hover {\n",
              "      background-color: #E2EBFA;\n",
              "      box-shadow: 0px 1px 2px rgba(60, 64, 67, 0.3), 0px 1px 3px 1px rgba(60, 64, 67, 0.15);\n",
              "      fill: #174EA6;\n",
              "    }\n",
              "\n",
              "    [theme=dark] .colab-df-convert {\n",
              "      background-color: #3B4455;\n",
              "      fill: #D2E3FC;\n",
              "    }\n",
              "\n",
              "    [theme=dark] .colab-df-convert:hover {\n",
              "      background-color: #434B5C;\n",
              "      box-shadow: 0px 1px 3px 1px rgba(0, 0, 0, 0.15);\n",
              "      filter: drop-shadow(0px 1px 2px rgba(0, 0, 0, 0.3));\n",
              "      fill: #FFFFFF;\n",
              "    }\n",
              "  </style>\n",
              "\n",
              "      <script>\n",
              "        const buttonEl =\n",
              "          document.querySelector('#df-337b194f-0854-468e-8ca4-6465561c6313 button.colab-df-convert');\n",
              "        buttonEl.style.display =\n",
              "          google.colab.kernel.accessAllowed ? 'block' : 'none';\n",
              "\n",
              "        async function convertToInteractive(key) {\n",
              "          const element = document.querySelector('#df-337b194f-0854-468e-8ca4-6465561c6313');\n",
              "          const dataTable =\n",
              "            await google.colab.kernel.invokeFunction('convertToInteractive',\n",
              "                                                     [key], {});\n",
              "          if (!dataTable) return;\n",
              "\n",
              "          const docLinkHtml = 'Like what you see? Visit the ' +\n",
              "            '<a target=\"_blank\" href=https://colab.research.google.com/notebooks/data_table.ipynb>data table notebook</a>'\n",
              "            + ' to learn more about interactive tables.';\n",
              "          element.innerHTML = '';\n",
              "          dataTable['output_type'] = 'display_data';\n",
              "          await google.colab.output.renderOutput(dataTable, element);\n",
              "          const docLink = document.createElement('div');\n",
              "          docLink.innerHTML = docLinkHtml;\n",
              "          element.appendChild(docLink);\n",
              "        }\n",
              "      </script>\n",
              "    </div>\n",
              "  </div>\n",
              "  "
            ]
          },
          "metadata": {},
          "execution_count": 56
        }
      ],
      "source": [
        "''' Loading data '''\n",
        "import pandas as pd\n",
        "series = pd.read_csv('T1.csv',index_col=\"Date/Time\")\n",
        "series.head()"
      ]
    },
    {
      "cell_type": "code",
      "execution_count": 57,
      "metadata": {
        "colab": {
          "base_uri": "https://localhost:8080/",
          "height": 238
        },
        "id": "gEUR8gxYzydk",
        "outputId": "1e88366f-79b1-4f31-80b9-2c4e5987fce7"
      },
      "outputs": [
        {
          "output_type": "execute_result",
          "data": {
            "text/plain": [
              "                  Wind Speed (m/s)\n",
              "Date/Time                         \n",
              "01 01 2018 00:00          5.311336\n",
              "01 01 2018 00:10          5.672167\n",
              "01 01 2018 00:20          5.216037\n",
              "01 01 2018 00:30          5.659674\n",
              "01 01 2018 00:40          5.577941"
            ],
            "text/html": [
              "\n",
              "  <div id=\"df-86c50365-d55f-4174-930d-d225d20d5787\">\n",
              "    <div class=\"colab-df-container\">\n",
              "      <div>\n",
              "<style scoped>\n",
              "    .dataframe tbody tr th:only-of-type {\n",
              "        vertical-align: middle;\n",
              "    }\n",
              "\n",
              "    .dataframe tbody tr th {\n",
              "        vertical-align: top;\n",
              "    }\n",
              "\n",
              "    .dataframe thead th {\n",
              "        text-align: right;\n",
              "    }\n",
              "</style>\n",
              "<table border=\"1\" class=\"dataframe\">\n",
              "  <thead>\n",
              "    <tr style=\"text-align: right;\">\n",
              "      <th></th>\n",
              "      <th>Wind Speed (m/s)</th>\n",
              "    </tr>\n",
              "    <tr>\n",
              "      <th>Date/Time</th>\n",
              "      <th></th>\n",
              "    </tr>\n",
              "  </thead>\n",
              "  <tbody>\n",
              "    <tr>\n",
              "      <th>01 01 2018 00:00</th>\n",
              "      <td>5.311336</td>\n",
              "    </tr>\n",
              "    <tr>\n",
              "      <th>01 01 2018 00:10</th>\n",
              "      <td>5.672167</td>\n",
              "    </tr>\n",
              "    <tr>\n",
              "      <th>01 01 2018 00:20</th>\n",
              "      <td>5.216037</td>\n",
              "    </tr>\n",
              "    <tr>\n",
              "      <th>01 01 2018 00:30</th>\n",
              "      <td>5.659674</td>\n",
              "    </tr>\n",
              "    <tr>\n",
              "      <th>01 01 2018 00:40</th>\n",
              "      <td>5.577941</td>\n",
              "    </tr>\n",
              "  </tbody>\n",
              "</table>\n",
              "</div>\n",
              "      <button class=\"colab-df-convert\" onclick=\"convertToInteractive('df-86c50365-d55f-4174-930d-d225d20d5787')\"\n",
              "              title=\"Convert this dataframe to an interactive table.\"\n",
              "              style=\"display:none;\">\n",
              "        \n",
              "  <svg xmlns=\"http://www.w3.org/2000/svg\" height=\"24px\"viewBox=\"0 0 24 24\"\n",
              "       width=\"24px\">\n",
              "    <path d=\"M0 0h24v24H0V0z\" fill=\"none\"/>\n",
              "    <path d=\"M18.56 5.44l.94 2.06.94-2.06 2.06-.94-2.06-.94-.94-2.06-.94 2.06-2.06.94zm-11 1L8.5 8.5l.94-2.06 2.06-.94-2.06-.94L8.5 2.5l-.94 2.06-2.06.94zm10 10l.94 2.06.94-2.06 2.06-.94-2.06-.94-.94-2.06-.94 2.06-2.06.94z\"/><path d=\"M17.41 7.96l-1.37-1.37c-.4-.4-.92-.59-1.43-.59-.52 0-1.04.2-1.43.59L10.3 9.45l-7.72 7.72c-.78.78-.78 2.05 0 2.83L4 21.41c.39.39.9.59 1.41.59.51 0 1.02-.2 1.41-.59l7.78-7.78 2.81-2.81c.8-.78.8-2.07 0-2.86zM5.41 20L4 18.59l7.72-7.72 1.47 1.35L5.41 20z\"/>\n",
              "  </svg>\n",
              "      </button>\n",
              "      \n",
              "  <style>\n",
              "    .colab-df-container {\n",
              "      display:flex;\n",
              "      flex-wrap:wrap;\n",
              "      gap: 12px;\n",
              "    }\n",
              "\n",
              "    .colab-df-convert {\n",
              "      background-color: #E8F0FE;\n",
              "      border: none;\n",
              "      border-radius: 50%;\n",
              "      cursor: pointer;\n",
              "      display: none;\n",
              "      fill: #1967D2;\n",
              "      height: 32px;\n",
              "      padding: 0 0 0 0;\n",
              "      width: 32px;\n",
              "    }\n",
              "\n",
              "    .colab-df-convert:hover {\n",
              "      background-color: #E2EBFA;\n",
              "      box-shadow: 0px 1px 2px rgba(60, 64, 67, 0.3), 0px 1px 3px 1px rgba(60, 64, 67, 0.15);\n",
              "      fill: #174EA6;\n",
              "    }\n",
              "\n",
              "    [theme=dark] .colab-df-convert {\n",
              "      background-color: #3B4455;\n",
              "      fill: #D2E3FC;\n",
              "    }\n",
              "\n",
              "    [theme=dark] .colab-df-convert:hover {\n",
              "      background-color: #434B5C;\n",
              "      box-shadow: 0px 1px 3px 1px rgba(0, 0, 0, 0.15);\n",
              "      filter: drop-shadow(0px 1px 2px rgba(0, 0, 0, 0.3));\n",
              "      fill: #FFFFFF;\n",
              "    }\n",
              "  </style>\n",
              "\n",
              "      <script>\n",
              "        const buttonEl =\n",
              "          document.querySelector('#df-86c50365-d55f-4174-930d-d225d20d5787 button.colab-df-convert');\n",
              "        buttonEl.style.display =\n",
              "          google.colab.kernel.accessAllowed ? 'block' : 'none';\n",
              "\n",
              "        async function convertToInteractive(key) {\n",
              "          const element = document.querySelector('#df-86c50365-d55f-4174-930d-d225d20d5787');\n",
              "          const dataTable =\n",
              "            await google.colab.kernel.invokeFunction('convertToInteractive',\n",
              "                                                     [key], {});\n",
              "          if (!dataTable) return;\n",
              "\n",
              "          const docLinkHtml = 'Like what you see? Visit the ' +\n",
              "            '<a target=\"_blank\" href=https://colab.research.google.com/notebooks/data_table.ipynb>data table notebook</a>'\n",
              "            + ' to learn more about interactive tables.';\n",
              "          element.innerHTML = '';\n",
              "          dataTable['output_type'] = 'display_data';\n",
              "          await google.colab.output.renderOutput(dataTable, element);\n",
              "          const docLink = document.createElement('div');\n",
              "          docLink.innerHTML = docLinkHtml;\n",
              "          element.appendChild(docLink);\n",
              "        }\n",
              "      </script>\n",
              "    </div>\n",
              "  </div>\n",
              "  "
            ]
          },
          "metadata": {},
          "execution_count": 57
        }
      ],
      "source": [
        "del series['LV ActivePower (kW)']\n",
        "del series['Wind Direction (°)']\n",
        "del series['Theoretical_Power_Curve (KWh)']\n",
        "series.head()"
      ]
    },
    {
      "cell_type": "code",
      "execution_count": 58,
      "metadata": {
        "colab": {
          "base_uri": "https://localhost:8080/",
          "height": 238
        },
        "id": "H7O6JMaTzygn",
        "outputId": "efc06182-92f8-470a-e6e3-eb56def59394"
      },
      "outputs": [
        {
          "output_type": "execute_result",
          "data": {
            "text/plain": [
              "                  Wind Speed (m/s)\n",
              "Date/Time                         \n",
              "31 12 2018 21:30          8.472826\n",
              "31 12 2018 21:40          8.433422\n",
              "31 12 2018 21:50          9.976660\n",
              "31 12 2018 22:00         10.416830\n",
              "31 12 2018 22:10         10.713670"
            ],
            "text/html": [
              "\n",
              "  <div id=\"df-2f1b6523-9084-44fb-a351-1129228667a1\">\n",
              "    <div class=\"colab-df-container\">\n",
              "      <div>\n",
              "<style scoped>\n",
              "    .dataframe tbody tr th:only-of-type {\n",
              "        vertical-align: middle;\n",
              "    }\n",
              "\n",
              "    .dataframe tbody tr th {\n",
              "        vertical-align: top;\n",
              "    }\n",
              "\n",
              "    .dataframe thead th {\n",
              "        text-align: right;\n",
              "    }\n",
              "</style>\n",
              "<table border=\"1\" class=\"dataframe\">\n",
              "  <thead>\n",
              "    <tr style=\"text-align: right;\">\n",
              "      <th></th>\n",
              "      <th>Wind Speed (m/s)</th>\n",
              "    </tr>\n",
              "    <tr>\n",
              "      <th>Date/Time</th>\n",
              "      <th></th>\n",
              "    </tr>\n",
              "  </thead>\n",
              "  <tbody>\n",
              "    <tr>\n",
              "      <th>31 12 2018 21:30</th>\n",
              "      <td>8.472826</td>\n",
              "    </tr>\n",
              "    <tr>\n",
              "      <th>31 12 2018 21:40</th>\n",
              "      <td>8.433422</td>\n",
              "    </tr>\n",
              "    <tr>\n",
              "      <th>31 12 2018 21:50</th>\n",
              "      <td>9.976660</td>\n",
              "    </tr>\n",
              "    <tr>\n",
              "      <th>31 12 2018 22:00</th>\n",
              "      <td>10.416830</td>\n",
              "    </tr>\n",
              "    <tr>\n",
              "      <th>31 12 2018 22:10</th>\n",
              "      <td>10.713670</td>\n",
              "    </tr>\n",
              "  </tbody>\n",
              "</table>\n",
              "</div>\n",
              "      <button class=\"colab-df-convert\" onclick=\"convertToInteractive('df-2f1b6523-9084-44fb-a351-1129228667a1')\"\n",
              "              title=\"Convert this dataframe to an interactive table.\"\n",
              "              style=\"display:none;\">\n",
              "        \n",
              "  <svg xmlns=\"http://www.w3.org/2000/svg\" height=\"24px\"viewBox=\"0 0 24 24\"\n",
              "       width=\"24px\">\n",
              "    <path d=\"M0 0h24v24H0V0z\" fill=\"none\"/>\n",
              "    <path d=\"M18.56 5.44l.94 2.06.94-2.06 2.06-.94-2.06-.94-.94-2.06-.94 2.06-2.06.94zm-11 1L8.5 8.5l.94-2.06 2.06-.94-2.06-.94L8.5 2.5l-.94 2.06-2.06.94zm10 10l.94 2.06.94-2.06 2.06-.94-2.06-.94-.94-2.06-.94 2.06-2.06.94z\"/><path d=\"M17.41 7.96l-1.37-1.37c-.4-.4-.92-.59-1.43-.59-.52 0-1.04.2-1.43.59L10.3 9.45l-7.72 7.72c-.78.78-.78 2.05 0 2.83L4 21.41c.39.39.9.59 1.41.59.51 0 1.02-.2 1.41-.59l7.78-7.78 2.81-2.81c.8-.78.8-2.07 0-2.86zM5.41 20L4 18.59l7.72-7.72 1.47 1.35L5.41 20z\"/>\n",
              "  </svg>\n",
              "      </button>\n",
              "      \n",
              "  <style>\n",
              "    .colab-df-container {\n",
              "      display:flex;\n",
              "      flex-wrap:wrap;\n",
              "      gap: 12px;\n",
              "    }\n",
              "\n",
              "    .colab-df-convert {\n",
              "      background-color: #E8F0FE;\n",
              "      border: none;\n",
              "      border-radius: 50%;\n",
              "      cursor: pointer;\n",
              "      display: none;\n",
              "      fill: #1967D2;\n",
              "      height: 32px;\n",
              "      padding: 0 0 0 0;\n",
              "      width: 32px;\n",
              "    }\n",
              "\n",
              "    .colab-df-convert:hover {\n",
              "      background-color: #E2EBFA;\n",
              "      box-shadow: 0px 1px 2px rgba(60, 64, 67, 0.3), 0px 1px 3px 1px rgba(60, 64, 67, 0.15);\n",
              "      fill: #174EA6;\n",
              "    }\n",
              "\n",
              "    [theme=dark] .colab-df-convert {\n",
              "      background-color: #3B4455;\n",
              "      fill: #D2E3FC;\n",
              "    }\n",
              "\n",
              "    [theme=dark] .colab-df-convert:hover {\n",
              "      background-color: #434B5C;\n",
              "      box-shadow: 0px 1px 3px 1px rgba(0, 0, 0, 0.15);\n",
              "      filter: drop-shadow(0px 1px 2px rgba(0, 0, 0, 0.3));\n",
              "      fill: #FFFFFF;\n",
              "    }\n",
              "  </style>\n",
              "\n",
              "      <script>\n",
              "        const buttonEl =\n",
              "          document.querySelector('#df-2f1b6523-9084-44fb-a351-1129228667a1 button.colab-df-convert');\n",
              "        buttonEl.style.display =\n",
              "          google.colab.kernel.accessAllowed ? 'block' : 'none';\n",
              "\n",
              "        async function convertToInteractive(key) {\n",
              "          const element = document.querySelector('#df-2f1b6523-9084-44fb-a351-1129228667a1');\n",
              "          const dataTable =\n",
              "            await google.colab.kernel.invokeFunction('convertToInteractive',\n",
              "                                                     [key], {});\n",
              "          if (!dataTable) return;\n",
              "\n",
              "          const docLinkHtml = 'Like what you see? Visit the ' +\n",
              "            '<a target=\"_blank\" href=https://colab.research.google.com/notebooks/data_table.ipynb>data table notebook</a>'\n",
              "            + ' to learn more about interactive tables.';\n",
              "          element.innerHTML = '';\n",
              "          dataTable['output_type'] = 'display_data';\n",
              "          await google.colab.output.renderOutput(dataTable, element);\n",
              "          const docLink = document.createElement('div');\n",
              "          docLink.innerHTML = docLinkHtml;\n",
              "          element.appendChild(docLink);\n",
              "        }\n",
              "      </script>\n",
              "    </div>\n",
              "  </div>\n",
              "  "
            ]
          },
          "metadata": {},
          "execution_count": 58
        }
      ],
      "source": [
        "for i in range(0,10):\n",
        "  series = series[:-1]\n",
        "series.tail()"
      ]
    },
    {
      "cell_type": "code",
      "execution_count": 59,
      "metadata": {
        "colab": {
          "base_uri": "https://localhost:8080/"
        },
        "id": "bvteyTNfzyij",
        "outputId": "e185e673-7532-4d2e-ab8a-137c4e80fd32"
      },
      "outputs": [
        {
          "output_type": "execute_result",
          "data": {
            "text/plain": [
              "(50520, 1)"
            ]
          },
          "metadata": {},
          "execution_count": 59
        }
      ],
      "source": [
        "series.shape"
      ]
    },
    {
      "cell_type": "code",
      "execution_count": 60,
      "metadata": {
        "id": "-MeuxCY-0Kvw"
      },
      "outputs": [],
      "source": [
        "# transform data to be stationary\n",
        "raw_values = series.values\n",
        "diff_values = difference(raw_values, 1)"
      ]
    },
    {
      "cell_type": "code",
      "execution_count": 61,
      "metadata": {
        "id": "1vyxGalx0Kx5"
      },
      "outputs": [],
      "source": [
        "# transform data to be supervised learning\n",
        "supervised = timeseries_to_supervised(diff_values, lag_exp)\n",
        "supervised_values = supervised.values"
      ]
    },
    {
      "cell_type": "code",
      "execution_count": 62,
      "metadata": {
        "id": "UYHzHTbX0K06"
      },
      "outputs": [],
      "source": [
        "# split data into train and test-sets\n",
        "train, test = supervised_values[0:-predict_values_exp], supervised_values[-predict_values_exp:]"
      ]
    },
    {
      "cell_type": "code",
      "execution_count": 63,
      "metadata": {
        "id": "q7rGkZB60K3F"
      },
      "outputs": [],
      "source": [
        "# transform the scale of the data\n",
        "scaler, train_scaled, test_scaled = scale(train, test)"
      ]
    },
    {
      "cell_type": "code",
      "execution_count": 64,
      "metadata": {
        "id": "0gnD2um60K6g",
        "colab": {
          "base_uri": "https://localhost:8080/"
        },
        "outputId": "5c29704e-6aa5-4ce2-d2a5-91aa482539c4"
      },
      "outputs": [
        {
          "output_type": "stream",
          "name": "stdout",
          "text": [
            "50447/50447 [==============================] - 98s 2ms/step - loss: 0.0018\n",
            "50447/50447 [==============================] - 96s 2ms/step - loss: 0.0018\n",
            "50447/50447 [==============================] - 109s 2ms/step - loss: 0.0018\n",
            "50447/50447 [==============================] - 95s 2ms/step - loss: 0.0018\n",
            "50447/50447 [==============================] - 101s 2ms/step - loss: 0.0018\n",
            "50447/50447 [==============================] - 94s 2ms/step - loss: 0.0018\n",
            "50447/50447 [==============================] - 94s 2ms/step - loss: 0.0018\n"
          ]
        }
      ],
      "source": [
        "lstm_model_speed = fit_lstm(train_scaled, batch_size_exp, epoch_exp, neurons_exp)"
      ]
    },
    {
      "cell_type": "code",
      "execution_count": 65,
      "metadata": {
        "id": "jETCSo8D0K9t",
        "colab": {
          "base_uri": "https://localhost:8080/"
        },
        "outputId": "2363c2ad-1c4b-4fac-9df6-981db2cbf013"
      },
      "outputs": [
        {
          "output_type": "stream",
          "name": "stdout",
          "text": [
            "Hour=1, Predicted=2.982636, Expected=2.498550\n",
            "Hour=2, Predicted=2.377196, Expected=2.620519\n",
            "Hour=3, Predicted=2.543020, Expected=2.827516\n",
            "Hour=4, Predicted=2.758509, Expected=2.563020\n",
            "Hour=5, Predicted=2.480524, Expected=1.680800\n",
            "Hour=6, Predicted=1.625233, Expected=2.386905\n",
            "Hour=7, Predicted=2.299801, Expected=2.425185\n",
            "Hour=8, Predicted=2.353254, Expected=2.946491\n",
            "Hour=9, Predicted=2.900450, Expected=2.795087\n",
            "Hour=10, Predicted=2.765024, Expected=3.916592\n",
            "Hour=11, Predicted=3.894277, Expected=3.091043\n",
            "Hour=12, Predicted=3.055547, Expected=2.892369\n",
            "Hour=13, Predicted=2.849196, Expected=2.722504\n",
            "Hour=14, Predicted=2.672001, Expected=2.869853\n",
            "Hour=15, Predicted=2.821506, Expected=3.201952\n",
            "Hour=16, Predicted=3.165720, Expected=3.861320\n",
            "Hour=17, Predicted=3.837550, Expected=3.012923\n",
            "Hour=18, Predicted=3.006046, Expected=2.998981\n",
            "Hour=19, Predicted=2.983286, Expected=2.647908\n",
            "Hour=20, Predicted=2.617354, Expected=2.796982\n",
            "Hour=21, Predicted=2.763603, Expected=3.670288\n",
            "Hour=22, Predicted=3.626066, Expected=4.544964\n",
            "Hour=23, Predicted=4.502567, Expected=4.369006\n",
            "Hour=24, Predicted=4.345003, Expected=4.090993\n",
            "Hour=25, Predicted=4.086471, Expected=4.125376\n",
            "Hour=26, Predicted=4.129023, Expected=4.172731\n",
            "Hour=27, Predicted=4.178443, Expected=4.502260\n",
            "Hour=28, Predicted=4.508625, Expected=5.285727\n",
            "Hour=29, Predicted=5.291547, Expected=5.882676\n",
            "Hour=30, Predicted=5.887546, Expected=5.832772\n",
            "Hour=31, Predicted=5.836242, Expected=6.083103\n",
            "Hour=32, Predicted=6.084400, Expected=5.896152\n",
            "Hour=33, Predicted=5.894800, Expected=5.456291\n",
            "Hour=34, Predicted=5.452900, Expected=6.039964\n",
            "Hour=35, Predicted=6.035716, Expected=7.657910\n",
            "Hour=36, Predicted=7.653447, Expected=8.315362\n",
            "Hour=37, Predicted=8.311078, Expected=8.209787\n",
            "Hour=38, Predicted=8.205382, Expected=8.624151\n",
            "Hour=39, Predicted=8.618867, Expected=7.930004\n",
            "Hour=40, Predicted=7.923457, Expected=5.749671\n",
            "Hour=41, Predicted=5.741755, Expected=4.824298\n",
            "Hour=42, Predicted=4.815402, Expected=4.591996\n",
            "Hour=43, Predicted=4.582878, Expected=4.792756\n",
            "Hour=44, Predicted=4.783799, Expected=4.478368\n",
            "Hour=45, Predicted=4.469590, Expected=4.600290\n",
            "Hour=46, Predicted=4.591512, Expected=4.505049\n",
            "Hour=47, Predicted=4.495866, Expected=4.502378\n",
            "Hour=48, Predicted=4.492461, Expected=4.556026\n",
            "Hour=49, Predicted=4.545442, Expected=4.798016\n",
            "Hour=50, Predicted=4.787087, Expected=4.795230\n",
            "Hour=51, Predicted=4.784238, Expected=4.860610\n",
            "Hour=52, Predicted=4.849722, Expected=4.994785\n",
            "Hour=53, Predicted=4.984102, Expected=5.197528\n",
            "Hour=54, Predicted=5.187121, Expected=5.782113\n",
            "Hour=55, Predicted=5.772028, Expected=5.478546\n",
            "Hour=56, Predicted=5.468806, Expected=6.146048\n",
            "Hour=57, Predicted=6.136635, Expected=7.936307\n",
            "Hour=58, Predicted=7.927151, Expected=8.350188\n",
            "Hour=59, Predicted=8.341203, Expected=8.674524\n",
            "Hour=60, Predicted=8.665641, Expected=8.135880\n",
            "Hour=61, Predicted=8.127065, Expected=7.486556\n",
            "Hour=62, Predicted=7.477812, Expected=7.493729\n",
            "Hour=63, Predicted=7.485078, Expected=7.724678\n",
            "Hour=64, Predicted=7.716128, Expected=8.986495\n",
            "Hour=65, Predicted=8.978035, Expected=9.714014\n",
            "Hour=66, Predicted=9.705611, Expected=8.498631\n",
            "Hour=67, Predicted=8.490243, Expected=9.635618\n",
            "Hour=68, Predicted=9.627219, Expected=8.472826\n",
            "Hour=69, Predicted=8.464403, Expected=8.433422\n",
            "Hour=70, Predicted=8.424979, Expected=9.976660\n",
            "Hour=71, Predicted=9.968207, Expected=10.416830\n",
            "Hour=72, Predicted=10.408372, Expected=10.713670\n"
          ]
        }
      ],
      "source": [
        "predictions = list()\n",
        "expectations = list()\n",
        "test_pred = list()\n",
        "for i in range(len(test_scaled)):\n",
        "    # make one-step forecast\n",
        "    X, y = test_scaled[i, 0:-1], test_scaled[i, -1]\n",
        "    yhat = forecast_lstm(lstm_model_speed, 1, X)#batch_size_exp to 1\n",
        "    '''# Start Debug prints\n",
        "    print(\"X: %\", X)\n",
        "    print(\"yhat: %\", yhat)\n",
        "    # End Debug prints'''\n",
        "    # Replacing value in test scaled with the predicted value.\n",
        "    test_pred = [yhat] + test_pred \n",
        "    if len(test_pred) > lag_exp+1:\n",
        "        test_pred = test_pred[:-1]\n",
        "    if i+1<len(test_scaled):\n",
        "        if i+1 > lag_exp+1:\n",
        "            test_scaled[i+1] = test_pred\n",
        "        else:\n",
        "            test_scaled[i+1] = np.concatenate((test_pred, test_scaled[i+1, i+1:]),axis=0)\n",
        "\n",
        "    # invert scaling\n",
        "    yhat = invert_scale(scaler, X, yhat)\n",
        "    # invert differencing\n",
        "    yhat = inverse_difference(raw_values, yhat, len(test_scaled)+1-i)\n",
        "    # store forecast\n",
        "    expected = raw_values[len(train) + i + 1]\n",
        "    if expected != 0:\n",
        "        predictions.append(yhat)\n",
        "        expectations.append(expected)\n",
        "    print('Hour=%d, Predicted=%f, Expected=%f' % (i+1, yhat, expected))"
      ]
    },
    {
      "cell_type": "code",
      "execution_count": 66,
      "metadata": {
        "id": "O2BN8lixPMRv"
      },
      "outputs": [],
      "source": [
        "speed = predictions"
      ]
    },
    {
      "cell_type": "code",
      "execution_count": 67,
      "metadata": {
        "id": "FutT4_9iPM_B"
      },
      "outputs": [],
      "source": [
        "df = pd.DataFrame(speed, columns = ['windspeed'])"
      ]
    },
    {
      "cell_type": "code",
      "execution_count": 68,
      "metadata": {
        "id": "jR7Jp-NCPVBj",
        "colab": {
          "base_uri": "https://localhost:8080/",
          "height": 328
        },
        "outputId": "e08ace95-a54e-4afb-87d3-2f65c774a977"
      },
      "outputs": [
        {
          "output_type": "error",
          "ename": "FileNotFoundError",
          "evalue": "ignored",
          "traceback": [
            "\u001b[0;31m---------------------------------------------------------------------------\u001b[0m",
            "\u001b[0;31mFileNotFoundError\u001b[0m                         Traceback (most recent call last)",
            "\u001b[0;32m<ipython-input-68-95c8423cce0b>\u001b[0m in \u001b[0;36m<module>\u001b[0;34m()\u001b[0m\n\u001b[0;32m----> 1\u001b[0;31m \u001b[0mdf\u001b[0m\u001b[0;34m.\u001b[0m\u001b[0mto_csv\u001b[0m\u001b[0;34m(\u001b[0m\u001b[0;34m'/content/drive/My Drive/prediction.csv'\u001b[0m\u001b[0;34m)\u001b[0m\u001b[0;34m\u001b[0m\u001b[0;34m\u001b[0m\u001b[0m\n\u001b[0m",
            "\u001b[0;32m/usr/local/lib/python3.7/dist-packages/pandas/core/generic.py\u001b[0m in \u001b[0;36mto_csv\u001b[0;34m(self, path_or_buf, sep, na_rep, float_format, columns, header, index, index_label, mode, encoding, compression, quoting, quotechar, line_terminator, chunksize, date_format, doublequote, escapechar, decimal, errors, storage_options)\u001b[0m\n\u001b[1;32m   3480\u001b[0m             \u001b[0mdoublequote\u001b[0m\u001b[0;34m=\u001b[0m\u001b[0mdoublequote\u001b[0m\u001b[0;34m,\u001b[0m\u001b[0;34m\u001b[0m\u001b[0;34m\u001b[0m\u001b[0m\n\u001b[1;32m   3481\u001b[0m             \u001b[0mescapechar\u001b[0m\u001b[0;34m=\u001b[0m\u001b[0mescapechar\u001b[0m\u001b[0;34m,\u001b[0m\u001b[0;34m\u001b[0m\u001b[0;34m\u001b[0m\u001b[0m\n\u001b[0;32m-> 3482\u001b[0;31m             \u001b[0mstorage_options\u001b[0m\u001b[0;34m=\u001b[0m\u001b[0mstorage_options\u001b[0m\u001b[0;34m,\u001b[0m\u001b[0;34m\u001b[0m\u001b[0;34m\u001b[0m\u001b[0m\n\u001b[0m\u001b[1;32m   3483\u001b[0m         )\n\u001b[1;32m   3484\u001b[0m \u001b[0;34m\u001b[0m\u001b[0m\n",
            "\u001b[0;32m/usr/local/lib/python3.7/dist-packages/pandas/io/formats/format.py\u001b[0m in \u001b[0;36mto_csv\u001b[0;34m(self, path_or_buf, encoding, sep, columns, index_label, mode, compression, quoting, quotechar, line_terminator, chunksize, date_format, doublequote, escapechar, errors, storage_options)\u001b[0m\n\u001b[1;32m   1103\u001b[0m             \u001b[0mformatter\u001b[0m\u001b[0;34m=\u001b[0m\u001b[0mself\u001b[0m\u001b[0;34m.\u001b[0m\u001b[0mfmt\u001b[0m\u001b[0;34m,\u001b[0m\u001b[0;34m\u001b[0m\u001b[0;34m\u001b[0m\u001b[0m\n\u001b[1;32m   1104\u001b[0m         )\n\u001b[0;32m-> 1105\u001b[0;31m         \u001b[0mcsv_formatter\u001b[0m\u001b[0;34m.\u001b[0m\u001b[0msave\u001b[0m\u001b[0;34m(\u001b[0m\u001b[0;34m)\u001b[0m\u001b[0;34m\u001b[0m\u001b[0;34m\u001b[0m\u001b[0m\n\u001b[0m\u001b[1;32m   1106\u001b[0m \u001b[0;34m\u001b[0m\u001b[0m\n\u001b[1;32m   1107\u001b[0m         \u001b[0;32mif\u001b[0m \u001b[0mcreated_buffer\u001b[0m\u001b[0;34m:\u001b[0m\u001b[0;34m\u001b[0m\u001b[0;34m\u001b[0m\u001b[0m\n",
            "\u001b[0;32m/usr/local/lib/python3.7/dist-packages/pandas/io/formats/csvs.py\u001b[0m in \u001b[0;36msave\u001b[0;34m(self)\u001b[0m\n\u001b[1;32m    241\u001b[0m             \u001b[0merrors\u001b[0m\u001b[0;34m=\u001b[0m\u001b[0mself\u001b[0m\u001b[0;34m.\u001b[0m\u001b[0merrors\u001b[0m\u001b[0;34m,\u001b[0m\u001b[0;34m\u001b[0m\u001b[0;34m\u001b[0m\u001b[0m\n\u001b[1;32m    242\u001b[0m             \u001b[0mcompression\u001b[0m\u001b[0;34m=\u001b[0m\u001b[0mself\u001b[0m\u001b[0;34m.\u001b[0m\u001b[0mcompression\u001b[0m\u001b[0;34m,\u001b[0m\u001b[0;34m\u001b[0m\u001b[0;34m\u001b[0m\u001b[0m\n\u001b[0;32m--> 243\u001b[0;31m             \u001b[0mstorage_options\u001b[0m\u001b[0;34m=\u001b[0m\u001b[0mself\u001b[0m\u001b[0;34m.\u001b[0m\u001b[0mstorage_options\u001b[0m\u001b[0;34m,\u001b[0m\u001b[0;34m\u001b[0m\u001b[0;34m\u001b[0m\u001b[0m\n\u001b[0m\u001b[1;32m    244\u001b[0m         ) as handles:\n\u001b[1;32m    245\u001b[0m \u001b[0;34m\u001b[0m\u001b[0m\n",
            "\u001b[0;32m/usr/local/lib/python3.7/dist-packages/pandas/io/common.py\u001b[0m in \u001b[0;36mget_handle\u001b[0;34m(path_or_buf, mode, encoding, compression, memory_map, is_text, errors, storage_options)\u001b[0m\n\u001b[1;32m    705\u001b[0m                 \u001b[0mencoding\u001b[0m\u001b[0;34m=\u001b[0m\u001b[0mioargs\u001b[0m\u001b[0;34m.\u001b[0m\u001b[0mencoding\u001b[0m\u001b[0;34m,\u001b[0m\u001b[0;34m\u001b[0m\u001b[0;34m\u001b[0m\u001b[0m\n\u001b[1;32m    706\u001b[0m                 \u001b[0merrors\u001b[0m\u001b[0;34m=\u001b[0m\u001b[0merrors\u001b[0m\u001b[0;34m,\u001b[0m\u001b[0;34m\u001b[0m\u001b[0;34m\u001b[0m\u001b[0m\n\u001b[0;32m--> 707\u001b[0;31m                 \u001b[0mnewline\u001b[0m\u001b[0;34m=\u001b[0m\u001b[0;34m\"\"\u001b[0m\u001b[0;34m,\u001b[0m\u001b[0;34m\u001b[0m\u001b[0;34m\u001b[0m\u001b[0m\n\u001b[0m\u001b[1;32m    708\u001b[0m             )\n\u001b[1;32m    709\u001b[0m         \u001b[0;32melse\u001b[0m\u001b[0;34m:\u001b[0m\u001b[0;34m\u001b[0m\u001b[0;34m\u001b[0m\u001b[0m\n",
            "\u001b[0;31mFileNotFoundError\u001b[0m: [Errno 2] No such file or directory: '/content/drive/My Drive/prediction.csv'"
          ]
        }
      ],
      "source": [
        "df.to_csv('/content/drive/My Drive/prediction.csv')"
      ]
    },
    {
      "cell_type": "code",
      "execution_count": 69,
      "metadata": {
        "id": "aiM08PzzPVDP",
        "colab": {
          "base_uri": "https://localhost:8080/",
          "height": 206
        },
        "outputId": "e7d6b3b0-3e68-4782-8bb0-02e225b5d9d0"
      },
      "outputs": [
        {
          "output_type": "execute_result",
          "data": {
            "text/plain": [
              "   windspeed\n",
              "0   2.982636\n",
              "1   2.377196\n",
              "2   2.543020\n",
              "3   2.758509\n",
              "4   2.480524"
            ],
            "text/html": [
              "\n",
              "  <div id=\"df-3df15b83-c435-416d-bab3-9a214be250cf\">\n",
              "    <div class=\"colab-df-container\">\n",
              "      <div>\n",
              "<style scoped>\n",
              "    .dataframe tbody tr th:only-of-type {\n",
              "        vertical-align: middle;\n",
              "    }\n",
              "\n",
              "    .dataframe tbody tr th {\n",
              "        vertical-align: top;\n",
              "    }\n",
              "\n",
              "    .dataframe thead th {\n",
              "        text-align: right;\n",
              "    }\n",
              "</style>\n",
              "<table border=\"1\" class=\"dataframe\">\n",
              "  <thead>\n",
              "    <tr style=\"text-align: right;\">\n",
              "      <th></th>\n",
              "      <th>windspeed</th>\n",
              "    </tr>\n",
              "  </thead>\n",
              "  <tbody>\n",
              "    <tr>\n",
              "      <th>0</th>\n",
              "      <td>2.982636</td>\n",
              "    </tr>\n",
              "    <tr>\n",
              "      <th>1</th>\n",
              "      <td>2.377196</td>\n",
              "    </tr>\n",
              "    <tr>\n",
              "      <th>2</th>\n",
              "      <td>2.543020</td>\n",
              "    </tr>\n",
              "    <tr>\n",
              "      <th>3</th>\n",
              "      <td>2.758509</td>\n",
              "    </tr>\n",
              "    <tr>\n",
              "      <th>4</th>\n",
              "      <td>2.480524</td>\n",
              "    </tr>\n",
              "  </tbody>\n",
              "</table>\n",
              "</div>\n",
              "      <button class=\"colab-df-convert\" onclick=\"convertToInteractive('df-3df15b83-c435-416d-bab3-9a214be250cf')\"\n",
              "              title=\"Convert this dataframe to an interactive table.\"\n",
              "              style=\"display:none;\">\n",
              "        \n",
              "  <svg xmlns=\"http://www.w3.org/2000/svg\" height=\"24px\"viewBox=\"0 0 24 24\"\n",
              "       width=\"24px\">\n",
              "    <path d=\"M0 0h24v24H0V0z\" fill=\"none\"/>\n",
              "    <path d=\"M18.56 5.44l.94 2.06.94-2.06 2.06-.94-2.06-.94-.94-2.06-.94 2.06-2.06.94zm-11 1L8.5 8.5l.94-2.06 2.06-.94-2.06-.94L8.5 2.5l-.94 2.06-2.06.94zm10 10l.94 2.06.94-2.06 2.06-.94-2.06-.94-.94-2.06-.94 2.06-2.06.94z\"/><path d=\"M17.41 7.96l-1.37-1.37c-.4-.4-.92-.59-1.43-.59-.52 0-1.04.2-1.43.59L10.3 9.45l-7.72 7.72c-.78.78-.78 2.05 0 2.83L4 21.41c.39.39.9.59 1.41.59.51 0 1.02-.2 1.41-.59l7.78-7.78 2.81-2.81c.8-.78.8-2.07 0-2.86zM5.41 20L4 18.59l7.72-7.72 1.47 1.35L5.41 20z\"/>\n",
              "  </svg>\n",
              "      </button>\n",
              "      \n",
              "  <style>\n",
              "    .colab-df-container {\n",
              "      display:flex;\n",
              "      flex-wrap:wrap;\n",
              "      gap: 12px;\n",
              "    }\n",
              "\n",
              "    .colab-df-convert {\n",
              "      background-color: #E8F0FE;\n",
              "      border: none;\n",
              "      border-radius: 50%;\n",
              "      cursor: pointer;\n",
              "      display: none;\n",
              "      fill: #1967D2;\n",
              "      height: 32px;\n",
              "      padding: 0 0 0 0;\n",
              "      width: 32px;\n",
              "    }\n",
              "\n",
              "    .colab-df-convert:hover {\n",
              "      background-color: #E2EBFA;\n",
              "      box-shadow: 0px 1px 2px rgba(60, 64, 67, 0.3), 0px 1px 3px 1px rgba(60, 64, 67, 0.15);\n",
              "      fill: #174EA6;\n",
              "    }\n",
              "\n",
              "    [theme=dark] .colab-df-convert {\n",
              "      background-color: #3B4455;\n",
              "      fill: #D2E3FC;\n",
              "    }\n",
              "\n",
              "    [theme=dark] .colab-df-convert:hover {\n",
              "      background-color: #434B5C;\n",
              "      box-shadow: 0px 1px 3px 1px rgba(0, 0, 0, 0.15);\n",
              "      filter: drop-shadow(0px 1px 2px rgba(0, 0, 0, 0.3));\n",
              "      fill: #FFFFFF;\n",
              "    }\n",
              "  </style>\n",
              "\n",
              "      <script>\n",
              "        const buttonEl =\n",
              "          document.querySelector('#df-3df15b83-c435-416d-bab3-9a214be250cf button.colab-df-convert');\n",
              "        buttonEl.style.display =\n",
              "          google.colab.kernel.accessAllowed ? 'block' : 'none';\n",
              "\n",
              "        async function convertToInteractive(key) {\n",
              "          const element = document.querySelector('#df-3df15b83-c435-416d-bab3-9a214be250cf');\n",
              "          const dataTable =\n",
              "            await google.colab.kernel.invokeFunction('convertToInteractive',\n",
              "                                                     [key], {});\n",
              "          if (!dataTable) return;\n",
              "\n",
              "          const docLinkHtml = 'Like what you see? Visit the ' +\n",
              "            '<a target=\"_blank\" href=https://colab.research.google.com/notebooks/data_table.ipynb>data table notebook</a>'\n",
              "            + ' to learn more about interactive tables.';\n",
              "          element.innerHTML = '';\n",
              "          dataTable['output_type'] = 'display_data';\n",
              "          await google.colab.output.renderOutput(dataTable, element);\n",
              "          const docLink = document.createElement('div');\n",
              "          docLink.innerHTML = docLinkHtml;\n",
              "          element.appendChild(docLink);\n",
              "        }\n",
              "      </script>\n",
              "    </div>\n",
              "  </div>\n",
              "  "
            ]
          },
          "metadata": {},
          "execution_count": 69
        }
      ],
      "source": [
        "df.head()"
      ]
    },
    {
      "cell_type": "code",
      "execution_count": 70,
      "metadata": {
        "id": "3AiuiHhEPVHp"
      },
      "outputs": [],
      "source": [
        "df.insert(1, 'winddirection', direction)"
      ]
    },
    {
      "cell_type": "code",
      "execution_count": 71,
      "metadata": {
        "id": "RNcnstsrPpO2",
        "colab": {
          "base_uri": "https://localhost:8080/",
          "height": 206
        },
        "outputId": "50aecce8-20c2-4295-9c37-b727179f94e0"
      },
      "outputs": [
        {
          "output_type": "execute_result",
          "data": {
            "text/plain": [
              "   windspeed        winddirection\n",
              "0   2.982636  [77.54241348391908]\n",
              "1   2.377196  [61.21734131701022]\n",
              "2   2.543020  [67.83670177873793]\n",
              "3   2.758509  [90.24545458772123]\n",
              "4   2.480524   [65.4363847804683]"
            ],
            "text/html": [
              "\n",
              "  <div id=\"df-c30cb2cb-5623-432b-a8e7-65250bac5807\">\n",
              "    <div class=\"colab-df-container\">\n",
              "      <div>\n",
              "<style scoped>\n",
              "    .dataframe tbody tr th:only-of-type {\n",
              "        vertical-align: middle;\n",
              "    }\n",
              "\n",
              "    .dataframe tbody tr th {\n",
              "        vertical-align: top;\n",
              "    }\n",
              "\n",
              "    .dataframe thead th {\n",
              "        text-align: right;\n",
              "    }\n",
              "</style>\n",
              "<table border=\"1\" class=\"dataframe\">\n",
              "  <thead>\n",
              "    <tr style=\"text-align: right;\">\n",
              "      <th></th>\n",
              "      <th>windspeed</th>\n",
              "      <th>winddirection</th>\n",
              "    </tr>\n",
              "  </thead>\n",
              "  <tbody>\n",
              "    <tr>\n",
              "      <th>0</th>\n",
              "      <td>2.982636</td>\n",
              "      <td>[77.54241348391908]</td>\n",
              "    </tr>\n",
              "    <tr>\n",
              "      <th>1</th>\n",
              "      <td>2.377196</td>\n",
              "      <td>[61.21734131701022]</td>\n",
              "    </tr>\n",
              "    <tr>\n",
              "      <th>2</th>\n",
              "      <td>2.543020</td>\n",
              "      <td>[67.83670177873793]</td>\n",
              "    </tr>\n",
              "    <tr>\n",
              "      <th>3</th>\n",
              "      <td>2.758509</td>\n",
              "      <td>[90.24545458772123]</td>\n",
              "    </tr>\n",
              "    <tr>\n",
              "      <th>4</th>\n",
              "      <td>2.480524</td>\n",
              "      <td>[65.4363847804683]</td>\n",
              "    </tr>\n",
              "  </tbody>\n",
              "</table>\n",
              "</div>\n",
              "      <button class=\"colab-df-convert\" onclick=\"convertToInteractive('df-c30cb2cb-5623-432b-a8e7-65250bac5807')\"\n",
              "              title=\"Convert this dataframe to an interactive table.\"\n",
              "              style=\"display:none;\">\n",
              "        \n",
              "  <svg xmlns=\"http://www.w3.org/2000/svg\" height=\"24px\"viewBox=\"0 0 24 24\"\n",
              "       width=\"24px\">\n",
              "    <path d=\"M0 0h24v24H0V0z\" fill=\"none\"/>\n",
              "    <path d=\"M18.56 5.44l.94 2.06.94-2.06 2.06-.94-2.06-.94-.94-2.06-.94 2.06-2.06.94zm-11 1L8.5 8.5l.94-2.06 2.06-.94-2.06-.94L8.5 2.5l-.94 2.06-2.06.94zm10 10l.94 2.06.94-2.06 2.06-.94-2.06-.94-.94-2.06-.94 2.06-2.06.94z\"/><path d=\"M17.41 7.96l-1.37-1.37c-.4-.4-.92-.59-1.43-.59-.52 0-1.04.2-1.43.59L10.3 9.45l-7.72 7.72c-.78.78-.78 2.05 0 2.83L4 21.41c.39.39.9.59 1.41.59.51 0 1.02-.2 1.41-.59l7.78-7.78 2.81-2.81c.8-.78.8-2.07 0-2.86zM5.41 20L4 18.59l7.72-7.72 1.47 1.35L5.41 20z\"/>\n",
              "  </svg>\n",
              "      </button>\n",
              "      \n",
              "  <style>\n",
              "    .colab-df-container {\n",
              "      display:flex;\n",
              "      flex-wrap:wrap;\n",
              "      gap: 12px;\n",
              "    }\n",
              "\n",
              "    .colab-df-convert {\n",
              "      background-color: #E8F0FE;\n",
              "      border: none;\n",
              "      border-radius: 50%;\n",
              "      cursor: pointer;\n",
              "      display: none;\n",
              "      fill: #1967D2;\n",
              "      height: 32px;\n",
              "      padding: 0 0 0 0;\n",
              "      width: 32px;\n",
              "    }\n",
              "\n",
              "    .colab-df-convert:hover {\n",
              "      background-color: #E2EBFA;\n",
              "      box-shadow: 0px 1px 2px rgba(60, 64, 67, 0.3), 0px 1px 3px 1px rgba(60, 64, 67, 0.15);\n",
              "      fill: #174EA6;\n",
              "    }\n",
              "\n",
              "    [theme=dark] .colab-df-convert {\n",
              "      background-color: #3B4455;\n",
              "      fill: #D2E3FC;\n",
              "    }\n",
              "\n",
              "    [theme=dark] .colab-df-convert:hover {\n",
              "      background-color: #434B5C;\n",
              "      box-shadow: 0px 1px 3px 1px rgba(0, 0, 0, 0.15);\n",
              "      filter: drop-shadow(0px 1px 2px rgba(0, 0, 0, 0.3));\n",
              "      fill: #FFFFFF;\n",
              "    }\n",
              "  </style>\n",
              "\n",
              "      <script>\n",
              "        const buttonEl =\n",
              "          document.querySelector('#df-c30cb2cb-5623-432b-a8e7-65250bac5807 button.colab-df-convert');\n",
              "        buttonEl.style.display =\n",
              "          google.colab.kernel.accessAllowed ? 'block' : 'none';\n",
              "\n",
              "        async function convertToInteractive(key) {\n",
              "          const element = document.querySelector('#df-c30cb2cb-5623-432b-a8e7-65250bac5807');\n",
              "          const dataTable =\n",
              "            await google.colab.kernel.invokeFunction('convertToInteractive',\n",
              "                                                     [key], {});\n",
              "          if (!dataTable) return;\n",
              "\n",
              "          const docLinkHtml = 'Like what you see? Visit the ' +\n",
              "            '<a target=\"_blank\" href=https://colab.research.google.com/notebooks/data_table.ipynb>data table notebook</a>'\n",
              "            + ' to learn more about interactive tables.';\n",
              "          element.innerHTML = '';\n",
              "          dataTable['output_type'] = 'display_data';\n",
              "          await google.colab.output.renderOutput(dataTable, element);\n",
              "          const docLink = document.createElement('div');\n",
              "          docLink.innerHTML = docLinkHtml;\n",
              "          element.appendChild(docLink);\n",
              "        }\n",
              "      </script>\n",
              "    </div>\n",
              "  </div>\n",
              "  "
            ]
          },
          "metadata": {},
          "execution_count": 71
        }
      ],
      "source": [
        "df.head()"
      ]
    },
    {
      "cell_type": "code",
      "execution_count": 72,
      "metadata": {
        "id": "tKL6I0zbPpR1"
      },
      "outputs": [],
      "source": [
        "df[\"winddirection\"] = df.winddirection.astype(float)"
      ]
    },
    {
      "cell_type": "code",
      "execution_count": 73,
      "metadata": {
        "id": "e2_Q6ioXPyvR",
        "colab": {
          "base_uri": "https://localhost:8080/",
          "height": 206
        },
        "outputId": "7cfb74ee-3d31-4bdc-976a-2c235dc9d37d"
      },
      "outputs": [
        {
          "output_type": "execute_result",
          "data": {
            "text/plain": [
              "   windspeed  winddirection\n",
              "0   2.982636      77.542413\n",
              "1   2.377196      61.217341\n",
              "2   2.543020      67.836702\n",
              "3   2.758509      90.245455\n",
              "4   2.480524      65.436385"
            ],
            "text/html": [
              "\n",
              "  <div id=\"df-622903da-c58a-44a8-82f9-cbbbb620778d\">\n",
              "    <div class=\"colab-df-container\">\n",
              "      <div>\n",
              "<style scoped>\n",
              "    .dataframe tbody tr th:only-of-type {\n",
              "        vertical-align: middle;\n",
              "    }\n",
              "\n",
              "    .dataframe tbody tr th {\n",
              "        vertical-align: top;\n",
              "    }\n",
              "\n",
              "    .dataframe thead th {\n",
              "        text-align: right;\n",
              "    }\n",
              "</style>\n",
              "<table border=\"1\" class=\"dataframe\">\n",
              "  <thead>\n",
              "    <tr style=\"text-align: right;\">\n",
              "      <th></th>\n",
              "      <th>windspeed</th>\n",
              "      <th>winddirection</th>\n",
              "    </tr>\n",
              "  </thead>\n",
              "  <tbody>\n",
              "    <tr>\n",
              "      <th>0</th>\n",
              "      <td>2.982636</td>\n",
              "      <td>77.542413</td>\n",
              "    </tr>\n",
              "    <tr>\n",
              "      <th>1</th>\n",
              "      <td>2.377196</td>\n",
              "      <td>61.217341</td>\n",
              "    </tr>\n",
              "    <tr>\n",
              "      <th>2</th>\n",
              "      <td>2.543020</td>\n",
              "      <td>67.836702</td>\n",
              "    </tr>\n",
              "    <tr>\n",
              "      <th>3</th>\n",
              "      <td>2.758509</td>\n",
              "      <td>90.245455</td>\n",
              "    </tr>\n",
              "    <tr>\n",
              "      <th>4</th>\n",
              "      <td>2.480524</td>\n",
              "      <td>65.436385</td>\n",
              "    </tr>\n",
              "  </tbody>\n",
              "</table>\n",
              "</div>\n",
              "      <button class=\"colab-df-convert\" onclick=\"convertToInteractive('df-622903da-c58a-44a8-82f9-cbbbb620778d')\"\n",
              "              title=\"Convert this dataframe to an interactive table.\"\n",
              "              style=\"display:none;\">\n",
              "        \n",
              "  <svg xmlns=\"http://www.w3.org/2000/svg\" height=\"24px\"viewBox=\"0 0 24 24\"\n",
              "       width=\"24px\">\n",
              "    <path d=\"M0 0h24v24H0V0z\" fill=\"none\"/>\n",
              "    <path d=\"M18.56 5.44l.94 2.06.94-2.06 2.06-.94-2.06-.94-.94-2.06-.94 2.06-2.06.94zm-11 1L8.5 8.5l.94-2.06 2.06-.94-2.06-.94L8.5 2.5l-.94 2.06-2.06.94zm10 10l.94 2.06.94-2.06 2.06-.94-2.06-.94-.94-2.06-.94 2.06-2.06.94z\"/><path d=\"M17.41 7.96l-1.37-1.37c-.4-.4-.92-.59-1.43-.59-.52 0-1.04.2-1.43.59L10.3 9.45l-7.72 7.72c-.78.78-.78 2.05 0 2.83L4 21.41c.39.39.9.59 1.41.59.51 0 1.02-.2 1.41-.59l7.78-7.78 2.81-2.81c.8-.78.8-2.07 0-2.86zM5.41 20L4 18.59l7.72-7.72 1.47 1.35L5.41 20z\"/>\n",
              "  </svg>\n",
              "      </button>\n",
              "      \n",
              "  <style>\n",
              "    .colab-df-container {\n",
              "      display:flex;\n",
              "      flex-wrap:wrap;\n",
              "      gap: 12px;\n",
              "    }\n",
              "\n",
              "    .colab-df-convert {\n",
              "      background-color: #E8F0FE;\n",
              "      border: none;\n",
              "      border-radius: 50%;\n",
              "      cursor: pointer;\n",
              "      display: none;\n",
              "      fill: #1967D2;\n",
              "      height: 32px;\n",
              "      padding: 0 0 0 0;\n",
              "      width: 32px;\n",
              "    }\n",
              "\n",
              "    .colab-df-convert:hover {\n",
              "      background-color: #E2EBFA;\n",
              "      box-shadow: 0px 1px 2px rgba(60, 64, 67, 0.3), 0px 1px 3px 1px rgba(60, 64, 67, 0.15);\n",
              "      fill: #174EA6;\n",
              "    }\n",
              "\n",
              "    [theme=dark] .colab-df-convert {\n",
              "      background-color: #3B4455;\n",
              "      fill: #D2E3FC;\n",
              "    }\n",
              "\n",
              "    [theme=dark] .colab-df-convert:hover {\n",
              "      background-color: #434B5C;\n",
              "      box-shadow: 0px 1px 3px 1px rgba(0, 0, 0, 0.15);\n",
              "      filter: drop-shadow(0px 1px 2px rgba(0, 0, 0, 0.3));\n",
              "      fill: #FFFFFF;\n",
              "    }\n",
              "  </style>\n",
              "\n",
              "      <script>\n",
              "        const buttonEl =\n",
              "          document.querySelector('#df-622903da-c58a-44a8-82f9-cbbbb620778d button.colab-df-convert');\n",
              "        buttonEl.style.display =\n",
              "          google.colab.kernel.accessAllowed ? 'block' : 'none';\n",
              "\n",
              "        async function convertToInteractive(key) {\n",
              "          const element = document.querySelector('#df-622903da-c58a-44a8-82f9-cbbbb620778d');\n",
              "          const dataTable =\n",
              "            await google.colab.kernel.invokeFunction('convertToInteractive',\n",
              "                                                     [key], {});\n",
              "          if (!dataTable) return;\n",
              "\n",
              "          const docLinkHtml = 'Like what you see? Visit the ' +\n",
              "            '<a target=\"_blank\" href=https://colab.research.google.com/notebooks/data_table.ipynb>data table notebook</a>'\n",
              "            + ' to learn more about interactive tables.';\n",
              "          element.innerHTML = '';\n",
              "          dataTable['output_type'] = 'display_data';\n",
              "          await google.colab.output.renderOutput(dataTable, element);\n",
              "          const docLink = document.createElement('div');\n",
              "          docLink.innerHTML = docLinkHtml;\n",
              "          element.appendChild(docLink);\n",
              "        }\n",
              "      </script>\n",
              "    </div>\n",
              "  </div>\n",
              "  "
            ]
          },
          "metadata": {},
          "execution_count": 73
        }
      ],
      "source": [
        "df.head()"
      ]
    },
    {
      "cell_type": "code",
      "execution_count": 74,
      "metadata": {
        "id": "w6MW2XVKPyxc",
        "colab": {
          "base_uri": "https://localhost:8080/"
        },
        "outputId": "4d20c51c-8997-4b4b-b842-67ab5dc38127"
      },
      "outputs": [
        {
          "output_type": "execute_result",
          "data": {
            "text/plain": [
              "(72, 2)"
            ]
          },
          "metadata": {},
          "execution_count": 74
        }
      ],
      "source": [
        "df.shape"
      ]
    },
    {
      "cell_type": "code",
      "execution_count": 76,
      "metadata": {
        "id": "AcNinngPPy07"
      },
      "outputs": [],
      "source": [
        "df.to_csv('predictions.csv')"
      ]
    },
    {
      "cell_type": "code",
      "execution_count": 77,
      "metadata": {
        "id": "o6S9eoQSP8Y5",
        "colab": {
          "base_uri": "https://localhost:8080/"
        },
        "outputId": "8ec6e352-e338-41b5-afd0-b1eab1f91372"
      },
      "outputs": [
        {
          "output_type": "stream",
          "name": "stdout",
          "text": [
            "<class 'pandas.core.frame.DataFrame'>\n",
            "RangeIndex: 72 entries, 0 to 71\n",
            "Data columns (total 2 columns):\n",
            " #   Column         Non-Null Count  Dtype  \n",
            "---  ------         --------------  -----  \n",
            " 0   windspeed      72 non-null     float64\n",
            " 1   winddirection  72 non-null     float64\n",
            "dtypes: float64(2)\n",
            "memory usage: 1.2 KB\n"
          ]
        }
      ],
      "source": [
        "df.info()"
      ]
    },
    {
      "cell_type": "code",
      "execution_count": 78,
      "metadata": {
        "id": "U2GIZ6xY0pZw",
        "colab": {
          "base_uri": "https://localhost:8080/"
        },
        "outputId": "3b49d2c4-aeb2-48a4-9223-eff6c2052184"
      },
      "outputs": [
        {
          "output_type": "stream",
          "name": "stdout",
          "text": [
            "Mean Absolute Percent Error:  9.950098873010784\n"
          ]
        }
      ],
      "source": [
        "expectations = np.array(expectations)\n",
        "predictions = np.array(predictions)\n",
        "print(\"Mean Absolute Percent Error: \", (np.mean(np.abs((expectations - predictions) / expectations))*100))"
      ]
    },
    {
      "cell_type": "code",
      "execution_count": 79,
      "metadata": {
        "id": "y5OsAkWv0pbq",
        "colab": {
          "base_uri": "https://localhost:8080/",
          "height": 279
        },
        "outputId": "c9d16b48-fb74-4863-9d1a-ab927ed5a96a"
      },
      "outputs": [
        {
          "output_type": "display_data",
          "data": {
            "text/plain": [
              "<Figure size 432x288 with 1 Axes>"
            ],
            "image/png": "[encoded data removed]"
          },
          "metadata": {
            "needs_background": "light"
          }
        }
      ],
      "source": [
        "# line plot of observed vs predicted\n",
        "pyplot.plot(raw_values[-predict_values_exp:], label=\"True\")\n",
        "pyplot.plot(predictions, label=\"Predicted\")\n",
        "pyplot.legend(loc='upper right')\n",
        "pyplot.xlabel(\"Number of hours\")\n",
        "pyplot.ylabel(\"wind speed\")\n",
        "pyplot.show()"
      ]
    },
    {
      "cell_type": "code",
      "execution_count": null,
      "metadata": {
        "id": "mZGX1goeQjnM"
      },
      "outputs": [],
      "source": [
        ""
      ]
    },
    {
      "cell_type": "code",
      "execution_count": 80,
      "metadata": {
        "id": "2n__yoMoQjpI"
      },
      "outputs": [],
      "source": [
        "import pickle"
      ]
    },
    {
      "cell_type": "code",
      "execution_count": 81,
      "metadata": {
        "id": "M2XUENFwQjsu",
        "colab": {
          "base_uri": "https://localhost:8080/"
        },
        "outputId": "590cca84-c638-48f5-c971-5d5dafb4e451"
      },
      "outputs": [
        {
          "output_type": "stream",
          "name": "stderr",
          "text": [
            "WARNING:absl:Found untraced functions such as lstm_cell_1_layer_call_fn, lstm_cell_1_layer_call_and_return_conditional_losses while saving (showing 2 of 2). These functions will not be directly callable after loading.\n"
          ]
        },
        {
          "output_type": "stream",
          "name": "stdout",
          "text": [
            "INFO:tensorflow:Assets written to: ram://ccfa13c1-e3bd-4eca-84ba-80b16bb78071/assets\n"
          ]
        },
        {
          "output_type": "stream",
          "name": "stderr",
          "text": [
            "INFO:tensorflow:Assets written to: ram://ccfa13c1-e3bd-4eca-84ba-80b16bb78071/assets\n",
            "WARNING:absl:<keras.layers.recurrent.LSTMCell object at 0x7f615e57ba90> has the same name 'LSTMCell' as a built-in Keras object. Consider renaming <class 'keras.layers.recurrent.LSTMCell'> to avoid naming conflicts when loading with `tf.keras.models.load_model`. If renaming is not possible, pass the object in the `custom_objects` parameter of the load function.\n",
            "WARNING:absl:Found untraced functions such as lstm_cell_layer_call_fn, lstm_cell_layer_call_and_return_conditional_losses while saving (showing 2 of 2). These functions will not be directly callable after loading.\n"
          ]
        },
        {
          "output_type": "stream",
          "name": "stdout",
          "text": [
            "INFO:tensorflow:Assets written to: ram://d99ba23a-5443-46da-9d61-7921bdc3e47e/assets\n"
          ]
        },
        {
          "output_type": "stream",
          "name": "stderr",
          "text": [
            "INFO:tensorflow:Assets written to: ram://d99ba23a-5443-46da-9d61-7921bdc3e47e/assets\n",
            "WARNING:absl:<keras.layers.recurrent.LSTMCell object at 0x7f6160009ad0> has the same name 'LSTMCell' as a built-in Keras object. Consider renaming <class 'keras.layers.recurrent.LSTMCell'> to avoid naming conflicts when loading with `tf.keras.models.load_model`. If renaming is not possible, pass the object in the `custom_objects` parameter of the load function.\n"
          ]
        }
      ],
      "source": [
        "wind = {\"speedmodel\": lstm_model_speed, \"directionmodel\": lstm_model}\n",
        "with open('savedmodel.pkl', 'wb') as file:\n",
        "    pickle.dump(wind, file)"
      ]
    },
    {
      "cell_type": "code",
      "execution_count": 82,
      "metadata": {
        "id": "mp5kNxbbQjun"
      },
      "outputs": [],
      "source": [
        "with open('savedmodel.pkl', 'rb') as file:\n",
        "    wind = pickle.load(file)"
      ]
    },
    {
      "cell_type": "code",
      "execution_count": 83,
      "metadata": {
        "id": "6WCkhDQpQjyJ"
      },
      "outputs": [],
      "source": [
        "speed_loaded = wind[\"speedmodel\"]\n",
        "direction_loaded = wind['directionmodel']"
      ]
    },
    {
      "cell_type": "code",
      "execution_count": null,
      "metadata": {
        "id": "O4INyJwdQj0G"
      },
      "outputs": [],
      "source": [
        ""
      ]
    },
    {
      "cell_type": "code",
      "execution_count": null,
      "metadata": {
        "id": "dXwLf0bvQj3j"
      },
      "outputs": [],
      "source": [
        ""
      ]
    },
    {
      "cell_type": "code",
      "execution_count": null,
      "metadata": {
        "id": "TCHyD08QQj5l"
      },
      "outputs": [],
      "source": [
        ""
      ]
    },
    {
      "cell_type": "code",
      "execution_count": null,
      "metadata": {
        "id": "KA2B6PDqQj87"
      },
      "outputs": [],
      "source": [
        ""
      ]
    },
    {
      "cell_type": "code",
      "execution_count": null,
      "metadata": {
        "id": "E3UpXdkQQj_7"
      },
      "outputs": [],
      "source": [
        ""
      ]
    },
    {
      "cell_type": "code",
      "execution_count": null,
      "metadata": {
        "id": "aJVSH0nXd39e"
      },
      "outputs": [],
      "source": [
        ""
      ]
    }
  ],
  "metadata": {
    "colab": {
      "collapsed_sections": [
        "ZL7bDqDLvfuD",
        "Le4GKDzRwNpI",
        "2oZ_oPvcycRB",
        "hKZ-T5uLxMy1",
        "NWT493VUxc1M"
      ],
      "name": "windeda.ipynb",
      "provenance": []
    },
    "kernelspec": {
      "display_name": "Python 3",
      "name": "python3"
    },
    "language_info": {
      "name": "python"
    }
  },
  "nbformat": 4,
  "nbformat_minor": 0
}